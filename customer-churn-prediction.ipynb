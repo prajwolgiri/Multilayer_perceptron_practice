{
 "cells": [
  {
   "cell_type": "code",
   "execution_count": 1,
   "id": "f8481d35",
   "metadata": {
    "_cell_guid": "b1076dfc-b9ad-4769-8c92-a6c4dae69d19",
    "_uuid": "8f2839f25d086af736a60e9eeb907d3b93b6e0e5",
    "execution": {
     "iopub.execute_input": "2025-07-22T17:42:06.750801Z",
     "iopub.status.busy": "2025-07-22T17:42:06.750305Z",
     "iopub.status.idle": "2025-07-22T17:42:08.715938Z",
     "shell.execute_reply": "2025-07-22T17:42:08.714700Z"
    },
    "papermill": {
     "duration": 1.975747,
     "end_time": "2025-07-22T17:42:08.717767",
     "exception": false,
     "start_time": "2025-07-22T17:42:06.742020",
     "status": "completed"
    },
    "tags": []
   },
   "outputs": [
    {
     "name": "stdout",
     "output_type": "stream",
     "text": [
      "/kaggle/input/credit-card-customer-churn-prediction/Churn_Modelling.csv\n"
     ]
    }
   ],
   "source": [
    "# This Python 3 environment comes with many helpful analytics libraries installed\n",
    "# It is defined by the kaggle/python Docker image: https://github.com/kaggle/docker-python\n",
    "# For example, here's several helpful packages to load\n",
    "\n",
    "import numpy as np # linear algebra\n",
    "import pandas as pd # data processing, CSV file I/O (e.g. pd.read_csv)\n",
    "\n",
    "# Input data files are available in the read-only \"../input/\" directory\n",
    "# For example, running this (by clicking run or pressing Shift+Enter) will list all files under the input directory\n",
    "\n",
    "import os\n",
    "for dirname, _, filenames in os.walk('/kaggle/input'):\n",
    "    for filename in filenames:\n",
    "        print(os.path.join(dirname, filename))\n",
    "\n",
    "# You can write up to 20GB to the current directory (/kaggle/working/) that gets preserved as output when you create a version using \"Save & Run All\" \n",
    "# You can also write temporary files to /kaggle/temp/, but they won't be saved outside of the current session"
   ]
  },
  {
   "cell_type": "code",
   "execution_count": 2,
   "id": "6add5ab1",
   "metadata": {
    "execution": {
     "iopub.execute_input": "2025-07-22T17:42:08.731428Z",
     "iopub.status.busy": "2025-07-22T17:42:08.730919Z",
     "iopub.status.idle": "2025-07-22T17:42:08.782792Z",
     "shell.execute_reply": "2025-07-22T17:42:08.781757Z"
    },
    "papermill": {
     "duration": 0.06073,
     "end_time": "2025-07-22T17:42:08.784665",
     "exception": false,
     "start_time": "2025-07-22T17:42:08.723935",
     "status": "completed"
    },
    "tags": []
   },
   "outputs": [],
   "source": [
    "df= pd.read_csv(\"/kaggle/input/credit-card-customer-churn-prediction/Churn_Modelling.csv\")"
   ]
  },
  {
   "cell_type": "code",
   "execution_count": 3,
   "id": "4e07209c",
   "metadata": {
    "execution": {
     "iopub.execute_input": "2025-07-22T17:42:08.798363Z",
     "iopub.status.busy": "2025-07-22T17:42:08.797342Z",
     "iopub.status.idle": "2025-07-22T17:42:08.826796Z",
     "shell.execute_reply": "2025-07-22T17:42:08.825709Z"
    },
    "papermill": {
     "duration": 0.037921,
     "end_time": "2025-07-22T17:42:08.828490",
     "exception": false,
     "start_time": "2025-07-22T17:42:08.790569",
     "status": "completed"
    },
    "tags": []
   },
   "outputs": [
    {
     "data": {
      "text/html": [
       "<div>\n",
       "<style scoped>\n",
       "    .dataframe tbody tr th:only-of-type {\n",
       "        vertical-align: middle;\n",
       "    }\n",
       "\n",
       "    .dataframe tbody tr th {\n",
       "        vertical-align: top;\n",
       "    }\n",
       "\n",
       "    .dataframe thead th {\n",
       "        text-align: right;\n",
       "    }\n",
       "</style>\n",
       "<table border=\"1\" class=\"dataframe\">\n",
       "  <thead>\n",
       "    <tr style=\"text-align: right;\">\n",
       "      <th></th>\n",
       "      <th>RowNumber</th>\n",
       "      <th>CustomerId</th>\n",
       "      <th>Surname</th>\n",
       "      <th>CreditScore</th>\n",
       "      <th>Geography</th>\n",
       "      <th>Gender</th>\n",
       "      <th>Age</th>\n",
       "      <th>Tenure</th>\n",
       "      <th>Balance</th>\n",
       "      <th>NumOfProducts</th>\n",
       "      <th>HasCrCard</th>\n",
       "      <th>IsActiveMember</th>\n",
       "      <th>EstimatedSalary</th>\n",
       "      <th>Exited</th>\n",
       "    </tr>\n",
       "  </thead>\n",
       "  <tbody>\n",
       "    <tr>\n",
       "      <th>0</th>\n",
       "      <td>1</td>\n",
       "      <td>15634602</td>\n",
       "      <td>Hargrave</td>\n",
       "      <td>619</td>\n",
       "      <td>France</td>\n",
       "      <td>Female</td>\n",
       "      <td>42</td>\n",
       "      <td>2</td>\n",
       "      <td>0.00</td>\n",
       "      <td>1</td>\n",
       "      <td>1</td>\n",
       "      <td>1</td>\n",
       "      <td>101348.88</td>\n",
       "      <td>1</td>\n",
       "    </tr>\n",
       "    <tr>\n",
       "      <th>1</th>\n",
       "      <td>2</td>\n",
       "      <td>15647311</td>\n",
       "      <td>Hill</td>\n",
       "      <td>608</td>\n",
       "      <td>Spain</td>\n",
       "      <td>Female</td>\n",
       "      <td>41</td>\n",
       "      <td>1</td>\n",
       "      <td>83807.86</td>\n",
       "      <td>1</td>\n",
       "      <td>0</td>\n",
       "      <td>1</td>\n",
       "      <td>112542.58</td>\n",
       "      <td>0</td>\n",
       "    </tr>\n",
       "    <tr>\n",
       "      <th>2</th>\n",
       "      <td>3</td>\n",
       "      <td>15619304</td>\n",
       "      <td>Onio</td>\n",
       "      <td>502</td>\n",
       "      <td>France</td>\n",
       "      <td>Female</td>\n",
       "      <td>42</td>\n",
       "      <td>8</td>\n",
       "      <td>159660.80</td>\n",
       "      <td>3</td>\n",
       "      <td>1</td>\n",
       "      <td>0</td>\n",
       "      <td>113931.57</td>\n",
       "      <td>1</td>\n",
       "    </tr>\n",
       "    <tr>\n",
       "      <th>3</th>\n",
       "      <td>4</td>\n",
       "      <td>15701354</td>\n",
       "      <td>Boni</td>\n",
       "      <td>699</td>\n",
       "      <td>France</td>\n",
       "      <td>Female</td>\n",
       "      <td>39</td>\n",
       "      <td>1</td>\n",
       "      <td>0.00</td>\n",
       "      <td>2</td>\n",
       "      <td>0</td>\n",
       "      <td>0</td>\n",
       "      <td>93826.63</td>\n",
       "      <td>0</td>\n",
       "    </tr>\n",
       "    <tr>\n",
       "      <th>4</th>\n",
       "      <td>5</td>\n",
       "      <td>15737888</td>\n",
       "      <td>Mitchell</td>\n",
       "      <td>850</td>\n",
       "      <td>Spain</td>\n",
       "      <td>Female</td>\n",
       "      <td>43</td>\n",
       "      <td>2</td>\n",
       "      <td>125510.82</td>\n",
       "      <td>1</td>\n",
       "      <td>1</td>\n",
       "      <td>1</td>\n",
       "      <td>79084.10</td>\n",
       "      <td>0</td>\n",
       "    </tr>\n",
       "  </tbody>\n",
       "</table>\n",
       "</div>"
      ],
      "text/plain": [
       "   RowNumber  CustomerId   Surname  CreditScore Geography  Gender  Age  \\\n",
       "0          1    15634602  Hargrave          619    France  Female   42   \n",
       "1          2    15647311      Hill          608     Spain  Female   41   \n",
       "2          3    15619304      Onio          502    France  Female   42   \n",
       "3          4    15701354      Boni          699    France  Female   39   \n",
       "4          5    15737888  Mitchell          850     Spain  Female   43   \n",
       "\n",
       "   Tenure    Balance  NumOfProducts  HasCrCard  IsActiveMember  \\\n",
       "0       2       0.00              1          1               1   \n",
       "1       1   83807.86              1          0               1   \n",
       "2       8  159660.80              3          1               0   \n",
       "3       1       0.00              2          0               0   \n",
       "4       2  125510.82              1          1               1   \n",
       "\n",
       "   EstimatedSalary  Exited  \n",
       "0        101348.88       1  \n",
       "1        112542.58       0  \n",
       "2        113931.57       1  \n",
       "3         93826.63       0  \n",
       "4         79084.10       0  "
      ]
     },
     "execution_count": 3,
     "metadata": {},
     "output_type": "execute_result"
    }
   ],
   "source": [
    "df.head()"
   ]
  },
  {
   "cell_type": "code",
   "execution_count": 4,
   "id": "7a86e88e",
   "metadata": {
    "execution": {
     "iopub.execute_input": "2025-07-22T17:42:08.842610Z",
     "iopub.status.busy": "2025-07-22T17:42:08.842252Z",
     "iopub.status.idle": "2025-07-22T17:42:08.874818Z",
     "shell.execute_reply": "2025-07-22T17:42:08.873786Z"
    },
    "papermill": {
     "duration": 0.042398,
     "end_time": "2025-07-22T17:42:08.876863",
     "exception": false,
     "start_time": "2025-07-22T17:42:08.834465",
     "status": "completed"
    },
    "tags": []
   },
   "outputs": [
    {
     "name": "stdout",
     "output_type": "stream",
     "text": [
      "<class 'pandas.core.frame.DataFrame'>\n",
      "RangeIndex: 10000 entries, 0 to 9999\n",
      "Data columns (total 14 columns):\n",
      " #   Column           Non-Null Count  Dtype  \n",
      "---  ------           --------------  -----  \n",
      " 0   RowNumber        10000 non-null  int64  \n",
      " 1   CustomerId       10000 non-null  int64  \n",
      " 2   Surname          10000 non-null  object \n",
      " 3   CreditScore      10000 non-null  int64  \n",
      " 4   Geography        10000 non-null  object \n",
      " 5   Gender           10000 non-null  object \n",
      " 6   Age              10000 non-null  int64  \n",
      " 7   Tenure           10000 non-null  int64  \n",
      " 8   Balance          10000 non-null  float64\n",
      " 9   NumOfProducts    10000 non-null  int64  \n",
      " 10  HasCrCard        10000 non-null  int64  \n",
      " 11  IsActiveMember   10000 non-null  int64  \n",
      " 12  EstimatedSalary  10000 non-null  float64\n",
      " 13  Exited           10000 non-null  int64  \n",
      "dtypes: float64(2), int64(9), object(3)\n",
      "memory usage: 1.1+ MB\n"
     ]
    }
   ],
   "source": [
    "df.info()"
   ]
  },
  {
   "cell_type": "code",
   "execution_count": 5,
   "id": "f41c907f",
   "metadata": {
    "execution": {
     "iopub.execute_input": "2025-07-22T17:42:08.894136Z",
     "iopub.status.busy": "2025-07-22T17:42:08.892866Z",
     "iopub.status.idle": "2025-07-22T17:42:08.913458Z",
     "shell.execute_reply": "2025-07-22T17:42:08.912297Z"
    },
    "papermill": {
     "duration": 0.03048,
     "end_time": "2025-07-22T17:42:08.915205",
     "exception": false,
     "start_time": "2025-07-22T17:42:08.884725",
     "status": "completed"
    },
    "tags": []
   },
   "outputs": [
    {
     "data": {
      "text/plain": [
       "0"
      ]
     },
     "execution_count": 5,
     "metadata": {},
     "output_type": "execute_result"
    }
   ],
   "source": [
    "df.duplicated().sum()   # or df[df.duplicated()]\n"
   ]
  },
  {
   "cell_type": "code",
   "execution_count": 6,
   "id": "c10925bc",
   "metadata": {
    "execution": {
     "iopub.execute_input": "2025-07-22T17:42:08.928559Z",
     "iopub.status.busy": "2025-07-22T17:42:08.928218Z",
     "iopub.status.idle": "2025-07-22T17:42:08.937437Z",
     "shell.execute_reply": "2025-07-22T17:42:08.936606Z"
    },
    "papermill": {
     "duration": 0.017706,
     "end_time": "2025-07-22T17:42:08.939007",
     "exception": false,
     "start_time": "2025-07-22T17:42:08.921301",
     "status": "completed"
    },
    "tags": []
   },
   "outputs": [],
   "source": [
    "df.drop(columns=['RowNumber','CustomerId','Surname'],inplace=True)"
   ]
  },
  {
   "cell_type": "code",
   "execution_count": 7,
   "id": "ce0555d1",
   "metadata": {
    "execution": {
     "iopub.execute_input": "2025-07-22T17:42:08.953253Z",
     "iopub.status.busy": "2025-07-22T17:42:08.952880Z",
     "iopub.status.idle": "2025-07-22T17:42:08.966160Z",
     "shell.execute_reply": "2025-07-22T17:42:08.965152Z"
    },
    "papermill": {
     "duration": 0.021646,
     "end_time": "2025-07-22T17:42:08.967665",
     "exception": false,
     "start_time": "2025-07-22T17:42:08.946019",
     "status": "completed"
    },
    "tags": []
   },
   "outputs": [
    {
     "data": {
      "text/html": [
       "<div>\n",
       "<style scoped>\n",
       "    .dataframe tbody tr th:only-of-type {\n",
       "        vertical-align: middle;\n",
       "    }\n",
       "\n",
       "    .dataframe tbody tr th {\n",
       "        vertical-align: top;\n",
       "    }\n",
       "\n",
       "    .dataframe thead th {\n",
       "        text-align: right;\n",
       "    }\n",
       "</style>\n",
       "<table border=\"1\" class=\"dataframe\">\n",
       "  <thead>\n",
       "    <tr style=\"text-align: right;\">\n",
       "      <th></th>\n",
       "      <th>CreditScore</th>\n",
       "      <th>Geography</th>\n",
       "      <th>Gender</th>\n",
       "      <th>Age</th>\n",
       "      <th>Tenure</th>\n",
       "      <th>Balance</th>\n",
       "      <th>NumOfProducts</th>\n",
       "      <th>HasCrCard</th>\n",
       "      <th>IsActiveMember</th>\n",
       "      <th>EstimatedSalary</th>\n",
       "      <th>Exited</th>\n",
       "    </tr>\n",
       "  </thead>\n",
       "  <tbody>\n",
       "    <tr>\n",
       "      <th>0</th>\n",
       "      <td>619</td>\n",
       "      <td>France</td>\n",
       "      <td>Female</td>\n",
       "      <td>42</td>\n",
       "      <td>2</td>\n",
       "      <td>0.00</td>\n",
       "      <td>1</td>\n",
       "      <td>1</td>\n",
       "      <td>1</td>\n",
       "      <td>101348.88</td>\n",
       "      <td>1</td>\n",
       "    </tr>\n",
       "    <tr>\n",
       "      <th>1</th>\n",
       "      <td>608</td>\n",
       "      <td>Spain</td>\n",
       "      <td>Female</td>\n",
       "      <td>41</td>\n",
       "      <td>1</td>\n",
       "      <td>83807.86</td>\n",
       "      <td>1</td>\n",
       "      <td>0</td>\n",
       "      <td>1</td>\n",
       "      <td>112542.58</td>\n",
       "      <td>0</td>\n",
       "    </tr>\n",
       "    <tr>\n",
       "      <th>2</th>\n",
       "      <td>502</td>\n",
       "      <td>France</td>\n",
       "      <td>Female</td>\n",
       "      <td>42</td>\n",
       "      <td>8</td>\n",
       "      <td>159660.80</td>\n",
       "      <td>3</td>\n",
       "      <td>1</td>\n",
       "      <td>0</td>\n",
       "      <td>113931.57</td>\n",
       "      <td>1</td>\n",
       "    </tr>\n",
       "  </tbody>\n",
       "</table>\n",
       "</div>"
      ],
      "text/plain": [
       "   CreditScore Geography  Gender  Age  Tenure    Balance  NumOfProducts  \\\n",
       "0          619    France  Female   42       2       0.00              1   \n",
       "1          608     Spain  Female   41       1   83807.86              1   \n",
       "2          502    France  Female   42       8  159660.80              3   \n",
       "\n",
       "   HasCrCard  IsActiveMember  EstimatedSalary  Exited  \n",
       "0          1               1        101348.88       1  \n",
       "1          0               1        112542.58       0  \n",
       "2          1               0        113931.57       1  "
      ]
     },
     "execution_count": 7,
     "metadata": {},
     "output_type": "execute_result"
    }
   ],
   "source": [
    "df.head(3)"
   ]
  },
  {
   "cell_type": "code",
   "execution_count": 8,
   "id": "629f1fe3",
   "metadata": {
    "execution": {
     "iopub.execute_input": "2025-07-22T17:42:08.981559Z",
     "iopub.status.busy": "2025-07-22T17:42:08.981193Z",
     "iopub.status.idle": "2025-07-22T17:42:08.990406Z",
     "shell.execute_reply": "2025-07-22T17:42:08.989600Z"
    },
    "papermill": {
     "duration": 0.017744,
     "end_time": "2025-07-22T17:42:08.991809",
     "exception": false,
     "start_time": "2025-07-22T17:42:08.974065",
     "status": "completed"
    },
    "tags": []
   },
   "outputs": [
    {
     "data": {
      "text/plain": [
       "Geography\n",
       "France     5014\n",
       "Germany    2509\n",
       "Spain      2477\n",
       "Name: count, dtype: int64"
      ]
     },
     "execution_count": 8,
     "metadata": {},
     "output_type": "execute_result"
    }
   ],
   "source": [
    "df['Geography'].value_counts()"
   ]
  },
  {
   "cell_type": "code",
   "execution_count": 9,
   "id": "79f3bdba",
   "metadata": {
    "execution": {
     "iopub.execute_input": "2025-07-22T17:42:09.006800Z",
     "iopub.status.busy": "2025-07-22T17:42:09.006160Z",
     "iopub.status.idle": "2025-07-22T17:42:09.017815Z",
     "shell.execute_reply": "2025-07-22T17:42:09.016590Z"
    },
    "papermill": {
     "duration": 0.022217,
     "end_time": "2025-07-22T17:42:09.020406",
     "exception": false,
     "start_time": "2025-07-22T17:42:08.998189",
     "status": "completed"
    },
    "tags": []
   },
   "outputs": [
    {
     "data": {
      "text/plain": [
       "Gender\n",
       "Male      5457\n",
       "Female    4543\n",
       "Name: count, dtype: int64"
      ]
     },
     "execution_count": 9,
     "metadata": {},
     "output_type": "execute_result"
    }
   ],
   "source": [
    "df['Gender'].value_counts()"
   ]
  },
  {
   "cell_type": "code",
   "execution_count": 10,
   "id": "3a13e699",
   "metadata": {
    "execution": {
     "iopub.execute_input": "2025-07-22T17:42:09.039597Z",
     "iopub.status.busy": "2025-07-22T17:42:09.038756Z",
     "iopub.status.idle": "2025-07-22T17:42:09.072847Z",
     "shell.execute_reply": "2025-07-22T17:42:09.071864Z"
    },
    "papermill": {
     "duration": 0.04469,
     "end_time": "2025-07-22T17:42:09.075171",
     "exception": false,
     "start_time": "2025-07-22T17:42:09.030481",
     "status": "completed"
    },
    "tags": []
   },
   "outputs": [
    {
     "data": {
      "text/html": [
       "<div>\n",
       "<style scoped>\n",
       "    .dataframe tbody tr th:only-of-type {\n",
       "        vertical-align: middle;\n",
       "    }\n",
       "\n",
       "    .dataframe tbody tr th {\n",
       "        vertical-align: top;\n",
       "    }\n",
       "\n",
       "    .dataframe thead th {\n",
       "        text-align: right;\n",
       "    }\n",
       "</style>\n",
       "<table border=\"1\" class=\"dataframe\">\n",
       "  <thead>\n",
       "    <tr style=\"text-align: right;\">\n",
       "      <th></th>\n",
       "      <th>CreditScore</th>\n",
       "      <th>Age</th>\n",
       "      <th>Tenure</th>\n",
       "      <th>Balance</th>\n",
       "      <th>NumOfProducts</th>\n",
       "      <th>HasCrCard</th>\n",
       "      <th>IsActiveMember</th>\n",
       "      <th>EstimatedSalary</th>\n",
       "      <th>Exited</th>\n",
       "      <th>Geography_Germany</th>\n",
       "      <th>Geography_Spain</th>\n",
       "      <th>Gender_Male</th>\n",
       "    </tr>\n",
       "  </thead>\n",
       "  <tbody>\n",
       "    <tr>\n",
       "      <th>0</th>\n",
       "      <td>619</td>\n",
       "      <td>42</td>\n",
       "      <td>2</td>\n",
       "      <td>0.00</td>\n",
       "      <td>1</td>\n",
       "      <td>1</td>\n",
       "      <td>1</td>\n",
       "      <td>101348.88</td>\n",
       "      <td>1</td>\n",
       "      <td>False</td>\n",
       "      <td>False</td>\n",
       "      <td>False</td>\n",
       "    </tr>\n",
       "    <tr>\n",
       "      <th>1</th>\n",
       "      <td>608</td>\n",
       "      <td>41</td>\n",
       "      <td>1</td>\n",
       "      <td>83807.86</td>\n",
       "      <td>1</td>\n",
       "      <td>0</td>\n",
       "      <td>1</td>\n",
       "      <td>112542.58</td>\n",
       "      <td>0</td>\n",
       "      <td>False</td>\n",
       "      <td>True</td>\n",
       "      <td>False</td>\n",
       "    </tr>\n",
       "    <tr>\n",
       "      <th>2</th>\n",
       "      <td>502</td>\n",
       "      <td>42</td>\n",
       "      <td>8</td>\n",
       "      <td>159660.80</td>\n",
       "      <td>3</td>\n",
       "      <td>1</td>\n",
       "      <td>0</td>\n",
       "      <td>113931.57</td>\n",
       "      <td>1</td>\n",
       "      <td>False</td>\n",
       "      <td>False</td>\n",
       "      <td>False</td>\n",
       "    </tr>\n",
       "    <tr>\n",
       "      <th>3</th>\n",
       "      <td>699</td>\n",
       "      <td>39</td>\n",
       "      <td>1</td>\n",
       "      <td>0.00</td>\n",
       "      <td>2</td>\n",
       "      <td>0</td>\n",
       "      <td>0</td>\n",
       "      <td>93826.63</td>\n",
       "      <td>0</td>\n",
       "      <td>False</td>\n",
       "      <td>False</td>\n",
       "      <td>False</td>\n",
       "    </tr>\n",
       "    <tr>\n",
       "      <th>4</th>\n",
       "      <td>850</td>\n",
       "      <td>43</td>\n",
       "      <td>2</td>\n",
       "      <td>125510.82</td>\n",
       "      <td>1</td>\n",
       "      <td>1</td>\n",
       "      <td>1</td>\n",
       "      <td>79084.10</td>\n",
       "      <td>0</td>\n",
       "      <td>False</td>\n",
       "      <td>True</td>\n",
       "      <td>False</td>\n",
       "    </tr>\n",
       "    <tr>\n",
       "      <th>...</th>\n",
       "      <td>...</td>\n",
       "      <td>...</td>\n",
       "      <td>...</td>\n",
       "      <td>...</td>\n",
       "      <td>...</td>\n",
       "      <td>...</td>\n",
       "      <td>...</td>\n",
       "      <td>...</td>\n",
       "      <td>...</td>\n",
       "      <td>...</td>\n",
       "      <td>...</td>\n",
       "      <td>...</td>\n",
       "    </tr>\n",
       "    <tr>\n",
       "      <th>9995</th>\n",
       "      <td>771</td>\n",
       "      <td>39</td>\n",
       "      <td>5</td>\n",
       "      <td>0.00</td>\n",
       "      <td>2</td>\n",
       "      <td>1</td>\n",
       "      <td>0</td>\n",
       "      <td>96270.64</td>\n",
       "      <td>0</td>\n",
       "      <td>False</td>\n",
       "      <td>False</td>\n",
       "      <td>True</td>\n",
       "    </tr>\n",
       "    <tr>\n",
       "      <th>9996</th>\n",
       "      <td>516</td>\n",
       "      <td>35</td>\n",
       "      <td>10</td>\n",
       "      <td>57369.61</td>\n",
       "      <td>1</td>\n",
       "      <td>1</td>\n",
       "      <td>1</td>\n",
       "      <td>101699.77</td>\n",
       "      <td>0</td>\n",
       "      <td>False</td>\n",
       "      <td>False</td>\n",
       "      <td>True</td>\n",
       "    </tr>\n",
       "    <tr>\n",
       "      <th>9997</th>\n",
       "      <td>709</td>\n",
       "      <td>36</td>\n",
       "      <td>7</td>\n",
       "      <td>0.00</td>\n",
       "      <td>1</td>\n",
       "      <td>0</td>\n",
       "      <td>1</td>\n",
       "      <td>42085.58</td>\n",
       "      <td>1</td>\n",
       "      <td>False</td>\n",
       "      <td>False</td>\n",
       "      <td>False</td>\n",
       "    </tr>\n",
       "    <tr>\n",
       "      <th>9998</th>\n",
       "      <td>772</td>\n",
       "      <td>42</td>\n",
       "      <td>3</td>\n",
       "      <td>75075.31</td>\n",
       "      <td>2</td>\n",
       "      <td>1</td>\n",
       "      <td>0</td>\n",
       "      <td>92888.52</td>\n",
       "      <td>1</td>\n",
       "      <td>True</td>\n",
       "      <td>False</td>\n",
       "      <td>True</td>\n",
       "    </tr>\n",
       "    <tr>\n",
       "      <th>9999</th>\n",
       "      <td>792</td>\n",
       "      <td>28</td>\n",
       "      <td>4</td>\n",
       "      <td>130142.79</td>\n",
       "      <td>1</td>\n",
       "      <td>1</td>\n",
       "      <td>0</td>\n",
       "      <td>38190.78</td>\n",
       "      <td>0</td>\n",
       "      <td>False</td>\n",
       "      <td>False</td>\n",
       "      <td>False</td>\n",
       "    </tr>\n",
       "  </tbody>\n",
       "</table>\n",
       "<p>10000 rows × 12 columns</p>\n",
       "</div>"
      ],
      "text/plain": [
       "      CreditScore  Age  Tenure    Balance  NumOfProducts  HasCrCard  \\\n",
       "0             619   42       2       0.00              1          1   \n",
       "1             608   41       1   83807.86              1          0   \n",
       "2             502   42       8  159660.80              3          1   \n",
       "3             699   39       1       0.00              2          0   \n",
       "4             850   43       2  125510.82              1          1   \n",
       "...           ...  ...     ...        ...            ...        ...   \n",
       "9995          771   39       5       0.00              2          1   \n",
       "9996          516   35      10   57369.61              1          1   \n",
       "9997          709   36       7       0.00              1          0   \n",
       "9998          772   42       3   75075.31              2          1   \n",
       "9999          792   28       4  130142.79              1          1   \n",
       "\n",
       "      IsActiveMember  EstimatedSalary  Exited  Geography_Germany  \\\n",
       "0                  1        101348.88       1              False   \n",
       "1                  1        112542.58       0              False   \n",
       "2                  0        113931.57       1              False   \n",
       "3                  0         93826.63       0              False   \n",
       "4                  1         79084.10       0              False   \n",
       "...              ...              ...     ...                ...   \n",
       "9995               0         96270.64       0              False   \n",
       "9996               1        101699.77       0              False   \n",
       "9997               1         42085.58       1              False   \n",
       "9998               0         92888.52       1               True   \n",
       "9999               0         38190.78       0              False   \n",
       "\n",
       "      Geography_Spain  Gender_Male  \n",
       "0               False        False  \n",
       "1                True        False  \n",
       "2               False        False  \n",
       "3               False        False  \n",
       "4                True        False  \n",
       "...               ...          ...  \n",
       "9995            False         True  \n",
       "9996            False         True  \n",
       "9997            False        False  \n",
       "9998            False         True  \n",
       "9999            False        False  \n",
       "\n",
       "[10000 rows x 12 columns]"
      ]
     },
     "execution_count": 10,
     "metadata": {},
     "output_type": "execute_result"
    }
   ],
   "source": [
    "# now we want to make all the data in numerical so we can use in training \n",
    "pd.get_dummies(df,columns=['Geography','Gender'],drop_first=True)"
   ]
  },
  {
   "cell_type": "code",
   "execution_count": 11,
   "id": "e7b92bcf",
   "metadata": {
    "execution": {
     "iopub.execute_input": "2025-07-22T17:42:09.100341Z",
     "iopub.status.busy": "2025-07-22T17:42:09.099133Z",
     "iopub.status.idle": "2025-07-22T17:42:09.111883Z",
     "shell.execute_reply": "2025-07-22T17:42:09.110726Z"
    },
    "papermill": {
     "duration": 0.028178,
     "end_time": "2025-07-22T17:42:09.114277",
     "exception": false,
     "start_time": "2025-07-22T17:42:09.086099",
     "status": "completed"
    },
    "tags": []
   },
   "outputs": [],
   "source": [
    "df = pd.get_dummies(df,columns=['Geography','Gender'],drop_first=True)"
   ]
  },
  {
   "cell_type": "code",
   "execution_count": 12,
   "id": "5d7ab50a",
   "metadata": {
    "execution": {
     "iopub.execute_input": "2025-07-22T17:42:09.133358Z",
     "iopub.status.busy": "2025-07-22T17:42:09.132875Z",
     "iopub.status.idle": "2025-07-22T17:42:09.150119Z",
     "shell.execute_reply": "2025-07-22T17:42:09.149248Z"
    },
    "papermill": {
     "duration": 0.030249,
     "end_time": "2025-07-22T17:42:09.151657",
     "exception": false,
     "start_time": "2025-07-22T17:42:09.121408",
     "status": "completed"
    },
    "tags": []
   },
   "outputs": [
    {
     "data": {
      "text/html": [
       "<div>\n",
       "<style scoped>\n",
       "    .dataframe tbody tr th:only-of-type {\n",
       "        vertical-align: middle;\n",
       "    }\n",
       "\n",
       "    .dataframe tbody tr th {\n",
       "        vertical-align: top;\n",
       "    }\n",
       "\n",
       "    .dataframe thead th {\n",
       "        text-align: right;\n",
       "    }\n",
       "</style>\n",
       "<table border=\"1\" class=\"dataframe\">\n",
       "  <thead>\n",
       "    <tr style=\"text-align: right;\">\n",
       "      <th></th>\n",
       "      <th>CreditScore</th>\n",
       "      <th>Age</th>\n",
       "      <th>Tenure</th>\n",
       "      <th>Balance</th>\n",
       "      <th>NumOfProducts</th>\n",
       "      <th>HasCrCard</th>\n",
       "      <th>IsActiveMember</th>\n",
       "      <th>EstimatedSalary</th>\n",
       "      <th>Exited</th>\n",
       "      <th>Geography_Germany</th>\n",
       "      <th>Geography_Spain</th>\n",
       "      <th>Gender_Male</th>\n",
       "    </tr>\n",
       "  </thead>\n",
       "  <tbody>\n",
       "    <tr>\n",
       "      <th>0</th>\n",
       "      <td>619</td>\n",
       "      <td>42</td>\n",
       "      <td>2</td>\n",
       "      <td>0.00</td>\n",
       "      <td>1</td>\n",
       "      <td>1</td>\n",
       "      <td>1</td>\n",
       "      <td>101348.88</td>\n",
       "      <td>1</td>\n",
       "      <td>False</td>\n",
       "      <td>False</td>\n",
       "      <td>False</td>\n",
       "    </tr>\n",
       "    <tr>\n",
       "      <th>1</th>\n",
       "      <td>608</td>\n",
       "      <td>41</td>\n",
       "      <td>1</td>\n",
       "      <td>83807.86</td>\n",
       "      <td>1</td>\n",
       "      <td>0</td>\n",
       "      <td>1</td>\n",
       "      <td>112542.58</td>\n",
       "      <td>0</td>\n",
       "      <td>False</td>\n",
       "      <td>True</td>\n",
       "      <td>False</td>\n",
       "    </tr>\n",
       "    <tr>\n",
       "      <th>2</th>\n",
       "      <td>502</td>\n",
       "      <td>42</td>\n",
       "      <td>8</td>\n",
       "      <td>159660.80</td>\n",
       "      <td>3</td>\n",
       "      <td>1</td>\n",
       "      <td>0</td>\n",
       "      <td>113931.57</td>\n",
       "      <td>1</td>\n",
       "      <td>False</td>\n",
       "      <td>False</td>\n",
       "      <td>False</td>\n",
       "    </tr>\n",
       "    <tr>\n",
       "      <th>3</th>\n",
       "      <td>699</td>\n",
       "      <td>39</td>\n",
       "      <td>1</td>\n",
       "      <td>0.00</td>\n",
       "      <td>2</td>\n",
       "      <td>0</td>\n",
       "      <td>0</td>\n",
       "      <td>93826.63</td>\n",
       "      <td>0</td>\n",
       "      <td>False</td>\n",
       "      <td>False</td>\n",
       "      <td>False</td>\n",
       "    </tr>\n",
       "    <tr>\n",
       "      <th>4</th>\n",
       "      <td>850</td>\n",
       "      <td>43</td>\n",
       "      <td>2</td>\n",
       "      <td>125510.82</td>\n",
       "      <td>1</td>\n",
       "      <td>1</td>\n",
       "      <td>1</td>\n",
       "      <td>79084.10</td>\n",
       "      <td>0</td>\n",
       "      <td>False</td>\n",
       "      <td>True</td>\n",
       "      <td>False</td>\n",
       "    </tr>\n",
       "  </tbody>\n",
       "</table>\n",
       "</div>"
      ],
      "text/plain": [
       "   CreditScore  Age  Tenure    Balance  NumOfProducts  HasCrCard  \\\n",
       "0          619   42       2       0.00              1          1   \n",
       "1          608   41       1   83807.86              1          0   \n",
       "2          502   42       8  159660.80              3          1   \n",
       "3          699   39       1       0.00              2          0   \n",
       "4          850   43       2  125510.82              1          1   \n",
       "\n",
       "   IsActiveMember  EstimatedSalary  Exited  Geography_Germany  \\\n",
       "0               1        101348.88       1              False   \n",
       "1               1        112542.58       0              False   \n",
       "2               0        113931.57       1              False   \n",
       "3               0         93826.63       0              False   \n",
       "4               1         79084.10       0              False   \n",
       "\n",
       "   Geography_Spain  Gender_Male  \n",
       "0            False        False  \n",
       "1             True        False  \n",
       "2            False        False  \n",
       "3            False        False  \n",
       "4             True        False  "
      ]
     },
     "execution_count": 12,
     "metadata": {},
     "output_type": "execute_result"
    }
   ],
   "source": [
    "df.head()"
   ]
  },
  {
   "cell_type": "code",
   "execution_count": 13,
   "id": "726fe61c",
   "metadata": {
    "execution": {
     "iopub.execute_input": "2025-07-22T17:42:09.173788Z",
     "iopub.status.busy": "2025-07-22T17:42:09.173401Z",
     "iopub.status.idle": "2025-07-22T17:42:09.187846Z",
     "shell.execute_reply": "2025-07-22T17:42:09.186515Z"
    },
    "papermill": {
     "duration": 0.028092,
     "end_time": "2025-07-22T17:42:09.189816",
     "exception": false,
     "start_time": "2025-07-22T17:42:09.161724",
     "status": "completed"
    },
    "tags": []
   },
   "outputs": [
    {
     "name": "stdout",
     "output_type": "stream",
     "text": [
      "<class 'pandas.core.frame.DataFrame'>\n",
      "RangeIndex: 10000 entries, 0 to 9999\n",
      "Data columns (total 12 columns):\n",
      " #   Column             Non-Null Count  Dtype  \n",
      "---  ------             --------------  -----  \n",
      " 0   CreditScore        10000 non-null  int64  \n",
      " 1   Age                10000 non-null  int64  \n",
      " 2   Tenure             10000 non-null  int64  \n",
      " 3   Balance            10000 non-null  float64\n",
      " 4   NumOfProducts      10000 non-null  int64  \n",
      " 5   HasCrCard          10000 non-null  int64  \n",
      " 6   IsActiveMember     10000 non-null  int64  \n",
      " 7   EstimatedSalary    10000 non-null  float64\n",
      " 8   Exited             10000 non-null  int64  \n",
      " 9   Geography_Germany  10000 non-null  bool   \n",
      " 10  Geography_Spain    10000 non-null  bool   \n",
      " 11  Gender_Male        10000 non-null  bool   \n",
      "dtypes: bool(3), float64(2), int64(7)\n",
      "memory usage: 732.6 KB\n"
     ]
    }
   ],
   "source": [
    "df.info()"
   ]
  },
  {
   "cell_type": "code",
   "execution_count": 14,
   "id": "02cb0d78",
   "metadata": {
    "execution": {
     "iopub.execute_input": "2025-07-22T17:42:09.205847Z",
     "iopub.status.busy": "2025-07-22T17:42:09.204818Z",
     "iopub.status.idle": "2025-07-22T17:42:09.213649Z",
     "shell.execute_reply": "2025-07-22T17:42:09.212792Z"
    },
    "papermill": {
     "duration": 0.018248,
     "end_time": "2025-07-22T17:42:09.215320",
     "exception": false,
     "start_time": "2025-07-22T17:42:09.197072",
     "status": "completed"
    },
    "tags": []
   },
   "outputs": [],
   "source": [
    "# since the dummies is giving me boolean value changing in integer\n",
    "\n",
    "df[['Geography_Germany','Geography_Spain','Gender_Male']]=df[['Geography_Germany','Geography_Spain','Gender_Male']].astype(int)"
   ]
  },
  {
   "cell_type": "code",
   "execution_count": 15,
   "id": "65244651",
   "metadata": {
    "execution": {
     "iopub.execute_input": "2025-07-22T17:42:09.231521Z",
     "iopub.status.busy": "2025-07-22T17:42:09.231168Z",
     "iopub.status.idle": "2025-07-22T17:42:09.242424Z",
     "shell.execute_reply": "2025-07-22T17:42:09.241386Z"
    },
    "papermill": {
     "duration": 0.021762,
     "end_time": "2025-07-22T17:42:09.243955",
     "exception": false,
     "start_time": "2025-07-22T17:42:09.222193",
     "status": "completed"
    },
    "tags": []
   },
   "outputs": [
    {
     "name": "stdout",
     "output_type": "stream",
     "text": [
      "<class 'pandas.core.frame.DataFrame'>\n",
      "RangeIndex: 10000 entries, 0 to 9999\n",
      "Data columns (total 12 columns):\n",
      " #   Column             Non-Null Count  Dtype  \n",
      "---  ------             --------------  -----  \n",
      " 0   CreditScore        10000 non-null  int64  \n",
      " 1   Age                10000 non-null  int64  \n",
      " 2   Tenure             10000 non-null  int64  \n",
      " 3   Balance            10000 non-null  float64\n",
      " 4   NumOfProducts      10000 non-null  int64  \n",
      " 5   HasCrCard          10000 non-null  int64  \n",
      " 6   IsActiveMember     10000 non-null  int64  \n",
      " 7   EstimatedSalary    10000 non-null  float64\n",
      " 8   Exited             10000 non-null  int64  \n",
      " 9   Geography_Germany  10000 non-null  int64  \n",
      " 10  Geography_Spain    10000 non-null  int64  \n",
      " 11  Gender_Male        10000 non-null  int64  \n",
      "dtypes: float64(2), int64(10)\n",
      "memory usage: 937.6 KB\n"
     ]
    }
   ],
   "source": [
    "df.info()"
   ]
  },
  {
   "cell_type": "code",
   "execution_count": 16,
   "id": "e0ed0bed",
   "metadata": {
    "execution": {
     "iopub.execute_input": "2025-07-22T17:42:09.258476Z",
     "iopub.status.busy": "2025-07-22T17:42:09.258175Z",
     "iopub.status.idle": "2025-07-22T17:42:09.271042Z",
     "shell.execute_reply": "2025-07-22T17:42:09.270125Z"
    },
    "papermill": {
     "duration": 0.021476,
     "end_time": "2025-07-22T17:42:09.272197",
     "exception": false,
     "start_time": "2025-07-22T17:42:09.250721",
     "status": "completed"
    },
    "tags": []
   },
   "outputs": [
    {
     "data": {
      "text/html": [
       "<div>\n",
       "<style scoped>\n",
       "    .dataframe tbody tr th:only-of-type {\n",
       "        vertical-align: middle;\n",
       "    }\n",
       "\n",
       "    .dataframe tbody tr th {\n",
       "        vertical-align: top;\n",
       "    }\n",
       "\n",
       "    .dataframe thead th {\n",
       "        text-align: right;\n",
       "    }\n",
       "</style>\n",
       "<table border=\"1\" class=\"dataframe\">\n",
       "  <thead>\n",
       "    <tr style=\"text-align: right;\">\n",
       "      <th></th>\n",
       "      <th>CreditScore</th>\n",
       "      <th>Age</th>\n",
       "      <th>Tenure</th>\n",
       "      <th>Balance</th>\n",
       "      <th>NumOfProducts</th>\n",
       "      <th>HasCrCard</th>\n",
       "      <th>IsActiveMember</th>\n",
       "      <th>EstimatedSalary</th>\n",
       "      <th>Exited</th>\n",
       "      <th>Geography_Germany</th>\n",
       "      <th>Geography_Spain</th>\n",
       "      <th>Gender_Male</th>\n",
       "    </tr>\n",
       "  </thead>\n",
       "  <tbody>\n",
       "    <tr>\n",
       "      <th>0</th>\n",
       "      <td>619</td>\n",
       "      <td>42</td>\n",
       "      <td>2</td>\n",
       "      <td>0.00</td>\n",
       "      <td>1</td>\n",
       "      <td>1</td>\n",
       "      <td>1</td>\n",
       "      <td>101348.88</td>\n",
       "      <td>1</td>\n",
       "      <td>0</td>\n",
       "      <td>0</td>\n",
       "      <td>0</td>\n",
       "    </tr>\n",
       "    <tr>\n",
       "      <th>1</th>\n",
       "      <td>608</td>\n",
       "      <td>41</td>\n",
       "      <td>1</td>\n",
       "      <td>83807.86</td>\n",
       "      <td>1</td>\n",
       "      <td>0</td>\n",
       "      <td>1</td>\n",
       "      <td>112542.58</td>\n",
       "      <td>0</td>\n",
       "      <td>0</td>\n",
       "      <td>1</td>\n",
       "      <td>0</td>\n",
       "    </tr>\n",
       "    <tr>\n",
       "      <th>2</th>\n",
       "      <td>502</td>\n",
       "      <td>42</td>\n",
       "      <td>8</td>\n",
       "      <td>159660.80</td>\n",
       "      <td>3</td>\n",
       "      <td>1</td>\n",
       "      <td>0</td>\n",
       "      <td>113931.57</td>\n",
       "      <td>1</td>\n",
       "      <td>0</td>\n",
       "      <td>0</td>\n",
       "      <td>0</td>\n",
       "    </tr>\n",
       "    <tr>\n",
       "      <th>3</th>\n",
       "      <td>699</td>\n",
       "      <td>39</td>\n",
       "      <td>1</td>\n",
       "      <td>0.00</td>\n",
       "      <td>2</td>\n",
       "      <td>0</td>\n",
       "      <td>0</td>\n",
       "      <td>93826.63</td>\n",
       "      <td>0</td>\n",
       "      <td>0</td>\n",
       "      <td>0</td>\n",
       "      <td>0</td>\n",
       "    </tr>\n",
       "    <tr>\n",
       "      <th>4</th>\n",
       "      <td>850</td>\n",
       "      <td>43</td>\n",
       "      <td>2</td>\n",
       "      <td>125510.82</td>\n",
       "      <td>1</td>\n",
       "      <td>1</td>\n",
       "      <td>1</td>\n",
       "      <td>79084.10</td>\n",
       "      <td>0</td>\n",
       "      <td>0</td>\n",
       "      <td>1</td>\n",
       "      <td>0</td>\n",
       "    </tr>\n",
       "  </tbody>\n",
       "</table>\n",
       "</div>"
      ],
      "text/plain": [
       "   CreditScore  Age  Tenure    Balance  NumOfProducts  HasCrCard  \\\n",
       "0          619   42       2       0.00              1          1   \n",
       "1          608   41       1   83807.86              1          0   \n",
       "2          502   42       8  159660.80              3          1   \n",
       "3          699   39       1       0.00              2          0   \n",
       "4          850   43       2  125510.82              1          1   \n",
       "\n",
       "   IsActiveMember  EstimatedSalary  Exited  Geography_Germany  \\\n",
       "0               1        101348.88       1                  0   \n",
       "1               1        112542.58       0                  0   \n",
       "2               0        113931.57       1                  0   \n",
       "3               0         93826.63       0                  0   \n",
       "4               1         79084.10       0                  0   \n",
       "\n",
       "   Geography_Spain  Gender_Male  \n",
       "0                0            0  \n",
       "1                1            0  \n",
       "2                0            0  \n",
       "3                0            0  \n",
       "4                1            0  "
      ]
     },
     "execution_count": 16,
     "metadata": {},
     "output_type": "execute_result"
    }
   ],
   "source": [
    "df.head()"
   ]
  },
  {
   "cell_type": "code",
   "execution_count": 17,
   "id": "2a1cc707",
   "metadata": {
    "execution": {
     "iopub.execute_input": "2025-07-22T17:42:09.287179Z",
     "iopub.status.busy": "2025-07-22T17:42:09.286884Z",
     "iopub.status.idle": "2025-07-22T17:42:10.963447Z",
     "shell.execute_reply": "2025-07-22T17:42:10.961952Z"
    },
    "papermill": {
     "duration": 1.686411,
     "end_time": "2025-07-22T17:42:10.965564",
     "exception": false,
     "start_time": "2025-07-22T17:42:09.279153",
     "status": "completed"
    },
    "tags": []
   },
   "outputs": [],
   "source": [
    "# seperating training and testing data\n",
    "X=df.drop(columns=['Exited'])\n",
    "y=df['Exited'].values\n",
    "from sklearn.model_selection import train_test_split\n",
    "X_train,X_test,Y_train,Y_test= train_test_split(X,y,test_size=0.2,random_state=0)\n"
   ]
  },
  {
   "cell_type": "code",
   "execution_count": 18,
   "id": "82a1dbe6",
   "metadata": {
    "execution": {
     "iopub.execute_input": "2025-07-22T17:42:10.981740Z",
     "iopub.status.busy": "2025-07-22T17:42:10.981128Z",
     "iopub.status.idle": "2025-07-22T17:42:11.019913Z",
     "shell.execute_reply": "2025-07-22T17:42:11.018810Z"
    },
    "papermill": {
     "duration": 0.049026,
     "end_time": "2025-07-22T17:42:11.021790",
     "exception": false,
     "start_time": "2025-07-22T17:42:10.972764",
     "status": "completed"
    },
    "tags": []
   },
   "outputs": [],
   "source": [
    "# now scaling the few data\n",
    "from sklearn.preprocessing import StandardScaler\n",
    "scaler=StandardScaler()\n",
    "X_train_trans = scaler.fit_transform(X_train)\n",
    "X_test_trans = scaler.transform(X_test)"
   ]
  },
  {
   "cell_type": "code",
   "execution_count": 19,
   "id": "d092767b",
   "metadata": {
    "execution": {
     "iopub.execute_input": "2025-07-22T17:42:11.037989Z",
     "iopub.status.busy": "2025-07-22T17:42:11.037536Z",
     "iopub.status.idle": "2025-07-22T17:42:27.874543Z",
     "shell.execute_reply": "2025-07-22T17:42:27.873570Z"
    },
    "papermill": {
     "duration": 16.847386,
     "end_time": "2025-07-22T17:42:27.876468",
     "exception": false,
     "start_time": "2025-07-22T17:42:11.029082",
     "status": "completed"
    },
    "tags": []
   },
   "outputs": [
    {
     "name": "stderr",
     "output_type": "stream",
     "text": [
      "2025-07-22 17:42:12.837524: E external/local_xla/xla/stream_executor/cuda/cuda_fft.cc:477] Unable to register cuFFT factory: Attempting to register factory for plugin cuFFT when one has already been registered\n",
      "WARNING: All log messages before absl::InitializeLog() is called are written to STDERR\n",
      "E0000 00:00:1753206133.085206      13 cuda_dnn.cc:8310] Unable to register cuDNN factory: Attempting to register factory for plugin cuDNN when one has already been registered\n",
      "E0000 00:00:1753206133.157930      13 cuda_blas.cc:1418] Unable to register cuBLAS factory: Attempting to register factory for plugin cuBLAS when one has already been registered\n"
     ]
    }
   ],
   "source": [
    "import tensorflow\n",
    "from tensorflow import keras\n",
    "from tensorflow.keras import Sequential\n",
    "from tensorflow.keras.layers import Dense"
   ]
  },
  {
   "cell_type": "code",
   "execution_count": 20,
   "id": "bd5dd6de",
   "metadata": {
    "execution": {
     "iopub.execute_input": "2025-07-22T17:42:27.893209Z",
     "iopub.status.busy": "2025-07-22T17:42:27.892437Z",
     "iopub.status.idle": "2025-07-22T17:42:28.000055Z",
     "shell.execute_reply": "2025-07-22T17:42:27.998984Z"
    },
    "papermill": {
     "duration": 0.117397,
     "end_time": "2025-07-22T17:42:28.001605",
     "exception": false,
     "start_time": "2025-07-22T17:42:27.884208",
     "status": "completed"
    },
    "tags": []
   },
   "outputs": [
    {
     "name": "stderr",
     "output_type": "stream",
     "text": [
      "/usr/local/lib/python3.11/dist-packages/keras/src/layers/core/dense.py:87: UserWarning: Do not pass an `input_shape`/`input_dim` argument to a layer. When using Sequential models, prefer using an `Input(shape)` object as the first layer in the model instead.\n",
      "  super().__init__(activity_regularizer=activity_regularizer, **kwargs)\n",
      "2025-07-22 17:42:27.905403: E external/local_xla/xla/stream_executor/cuda/cuda_driver.cc:152] failed call to cuInit: INTERNAL: CUDA error: Failed call to cuInit: UNKNOWN ERROR (303)\n"
     ]
    }
   ],
   "source": [
    "model = Sequential()\n",
    "\n",
    "model.add(Dense(11,activation='sigmoid',input_dim=11))\n",
    "model.add(Dense(11,activation='sigmoid'))\n",
    "model.add(Dense(1,activation='sigmoid'))\n"
   ]
  },
  {
   "cell_type": "code",
   "execution_count": 21,
   "id": "b8d79059",
   "metadata": {
    "execution": {
     "iopub.execute_input": "2025-07-22T17:42:28.017279Z",
     "iopub.status.busy": "2025-07-22T17:42:28.016923Z",
     "iopub.status.idle": "2025-07-22T17:42:28.033217Z",
     "shell.execute_reply": "2025-07-22T17:42:28.032338Z"
    },
    "papermill": {
     "duration": 0.025789,
     "end_time": "2025-07-22T17:42:28.034630",
     "exception": false,
     "start_time": "2025-07-22T17:42:28.008841",
     "status": "completed"
    },
    "tags": []
   },
   "outputs": [
    {
     "data": {
      "text/html": [
       "<pre style=\"white-space:pre;overflow-x:auto;line-height:normal;font-family:Menlo,'DejaVu Sans Mono',consolas,'Courier New',monospace\"><span style=\"font-weight: bold\">Model: \"sequential\"</span>\n",
       "</pre>\n"
      ],
      "text/plain": [
       "\u001b[1mModel: \"sequential\"\u001b[0m\n"
      ]
     },
     "metadata": {},
     "output_type": "display_data"
    },
    {
     "data": {
      "text/html": [
       "<pre style=\"white-space:pre;overflow-x:auto;line-height:normal;font-family:Menlo,'DejaVu Sans Mono',consolas,'Courier New',monospace\">┏━━━━━━━━━━━━━━━━━━━━━━━━━━━━━━━━━┳━━━━━━━━━━━━━━━━━━━━━━━━┳━━━━━━━━━━━━━━━┓\n",
       "┃<span style=\"font-weight: bold\"> Layer (type)                    </span>┃<span style=\"font-weight: bold\"> Output Shape           </span>┃<span style=\"font-weight: bold\">       Param # </span>┃\n",
       "┡━━━━━━━━━━━━━━━━━━━━━━━━━━━━━━━━━╇━━━━━━━━━━━━━━━━━━━━━━━━╇━━━━━━━━━━━━━━━┩\n",
       "│ dense (<span style=\"color: #0087ff; text-decoration-color: #0087ff\">Dense</span>)                   │ (<span style=\"color: #00d7ff; text-decoration-color: #00d7ff\">None</span>, <span style=\"color: #00af00; text-decoration-color: #00af00\">11</span>)             │           <span style=\"color: #00af00; text-decoration-color: #00af00\">132</span> │\n",
       "├─────────────────────────────────┼────────────────────────┼───────────────┤\n",
       "│ dense_1 (<span style=\"color: #0087ff; text-decoration-color: #0087ff\">Dense</span>)                 │ (<span style=\"color: #00d7ff; text-decoration-color: #00d7ff\">None</span>, <span style=\"color: #00af00; text-decoration-color: #00af00\">11</span>)             │           <span style=\"color: #00af00; text-decoration-color: #00af00\">132</span> │\n",
       "├─────────────────────────────────┼────────────────────────┼───────────────┤\n",
       "│ dense_2 (<span style=\"color: #0087ff; text-decoration-color: #0087ff\">Dense</span>)                 │ (<span style=\"color: #00d7ff; text-decoration-color: #00d7ff\">None</span>, <span style=\"color: #00af00; text-decoration-color: #00af00\">1</span>)              │            <span style=\"color: #00af00; text-decoration-color: #00af00\">12</span> │\n",
       "└─────────────────────────────────┴────────────────────────┴───────────────┘\n",
       "</pre>\n"
      ],
      "text/plain": [
       "┏━━━━━━━━━━━━━━━━━━━━━━━━━━━━━━━━━┳━━━━━━━━━━━━━━━━━━━━━━━━┳━━━━━━━━━━━━━━━┓\n",
       "┃\u001b[1m \u001b[0m\u001b[1mLayer (type)                   \u001b[0m\u001b[1m \u001b[0m┃\u001b[1m \u001b[0m\u001b[1mOutput Shape          \u001b[0m\u001b[1m \u001b[0m┃\u001b[1m \u001b[0m\u001b[1m      Param #\u001b[0m\u001b[1m \u001b[0m┃\n",
       "┡━━━━━━━━━━━━━━━━━━━━━━━━━━━━━━━━━╇━━━━━━━━━━━━━━━━━━━━━━━━╇━━━━━━━━━━━━━━━┩\n",
       "│ dense (\u001b[38;5;33mDense\u001b[0m)                   │ (\u001b[38;5;45mNone\u001b[0m, \u001b[38;5;34m11\u001b[0m)             │           \u001b[38;5;34m132\u001b[0m │\n",
       "├─────────────────────────────────┼────────────────────────┼───────────────┤\n",
       "│ dense_1 (\u001b[38;5;33mDense\u001b[0m)                 │ (\u001b[38;5;45mNone\u001b[0m, \u001b[38;5;34m11\u001b[0m)             │           \u001b[38;5;34m132\u001b[0m │\n",
       "├─────────────────────────────────┼────────────────────────┼───────────────┤\n",
       "│ dense_2 (\u001b[38;5;33mDense\u001b[0m)                 │ (\u001b[38;5;45mNone\u001b[0m, \u001b[38;5;34m1\u001b[0m)              │            \u001b[38;5;34m12\u001b[0m │\n",
       "└─────────────────────────────────┴────────────────────────┴───────────────┘\n"
      ]
     },
     "metadata": {},
     "output_type": "display_data"
    },
    {
     "data": {
      "text/html": [
       "<pre style=\"white-space:pre;overflow-x:auto;line-height:normal;font-family:Menlo,'DejaVu Sans Mono',consolas,'Courier New',monospace\"><span style=\"font-weight: bold\"> Total params: </span><span style=\"color: #00af00; text-decoration-color: #00af00\">276</span> (1.08 KB)\n",
       "</pre>\n"
      ],
      "text/plain": [
       "\u001b[1m Total params: \u001b[0m\u001b[38;5;34m276\u001b[0m (1.08 KB)\n"
      ]
     },
     "metadata": {},
     "output_type": "display_data"
    },
    {
     "data": {
      "text/html": [
       "<pre style=\"white-space:pre;overflow-x:auto;line-height:normal;font-family:Menlo,'DejaVu Sans Mono',consolas,'Courier New',monospace\"><span style=\"font-weight: bold\"> Trainable params: </span><span style=\"color: #00af00; text-decoration-color: #00af00\">276</span> (1.08 KB)\n",
       "</pre>\n"
      ],
      "text/plain": [
       "\u001b[1m Trainable params: \u001b[0m\u001b[38;5;34m276\u001b[0m (1.08 KB)\n"
      ]
     },
     "metadata": {},
     "output_type": "display_data"
    },
    {
     "data": {
      "text/html": [
       "<pre style=\"white-space:pre;overflow-x:auto;line-height:normal;font-family:Menlo,'DejaVu Sans Mono',consolas,'Courier New',monospace\"><span style=\"font-weight: bold\"> Non-trainable params: </span><span style=\"color: #00af00; text-decoration-color: #00af00\">0</span> (0.00 B)\n",
       "</pre>\n"
      ],
      "text/plain": [
       "\u001b[1m Non-trainable params: \u001b[0m\u001b[38;5;34m0\u001b[0m (0.00 B)\n"
      ]
     },
     "metadata": {},
     "output_type": "display_data"
    }
   ],
   "source": [
    "model.summary()"
   ]
  },
  {
   "cell_type": "code",
   "execution_count": 22,
   "id": "a689935a",
   "metadata": {
    "execution": {
     "iopub.execute_input": "2025-07-22T17:42:28.051772Z",
     "iopub.status.busy": "2025-07-22T17:42:28.051381Z",
     "iopub.status.idle": "2025-07-22T17:42:28.068685Z",
     "shell.execute_reply": "2025-07-22T17:42:28.067788Z"
    },
    "papermill": {
     "duration": 0.027422,
     "end_time": "2025-07-22T17:42:28.070418",
     "exception": false,
     "start_time": "2025-07-22T17:42:28.042996",
     "status": "completed"
    },
    "tags": []
   },
   "outputs": [],
   "source": [
    "model.compile(optimizer='Adam',loss='binary_crossentropy',metrics=['accuracy'])"
   ]
  },
  {
   "cell_type": "code",
   "execution_count": 23,
   "id": "c67f861a",
   "metadata": {
    "execution": {
     "iopub.execute_input": "2025-07-22T17:42:28.088259Z",
     "iopub.status.busy": "2025-07-22T17:42:28.087118Z",
     "iopub.status.idle": "2025-07-22T17:43:05.993177Z",
     "shell.execute_reply": "2025-07-22T17:43:05.992105Z"
    },
    "papermill": {
     "duration": 37.917156,
     "end_time": "2025-07-22T17:43:05.995456",
     "exception": false,
     "start_time": "2025-07-22T17:42:28.078300",
     "status": "completed"
    },
    "tags": []
   },
   "outputs": [
    {
     "name": "stdout",
     "output_type": "stream",
     "text": [
      "Epoch 1/100\n",
      "\u001b[1m128/128\u001b[0m \u001b[32m━━━━━━━━━━━━━━━━━━━━\u001b[0m\u001b[37m\u001b[0m \u001b[1m3s\u001b[0m 4ms/step - accuracy: 0.2523 - loss: 0.9252 - val_accuracy: 0.7962 - val_loss: 0.5980\n",
      "Epoch 2/100\n",
      "\u001b[1m128/128\u001b[0m \u001b[32m━━━━━━━━━━━━━━━━━━━━\u001b[0m\u001b[37m\u001b[0m \u001b[1m0s\u001b[0m 3ms/step - accuracy: 0.7861 - loss: 0.5706 - val_accuracy: 0.7969 - val_loss: 0.5152\n",
      "Epoch 3/100\n",
      "\u001b[1m128/128\u001b[0m \u001b[32m━━━━━━━━━━━━━━━━━━━━\u001b[0m\u001b[37m\u001b[0m \u001b[1m0s\u001b[0m 3ms/step - accuracy: 0.7989 - loss: 0.5091 - val_accuracy: 0.7969 - val_loss: 0.5067\n",
      "Epoch 4/100\n",
      "\u001b[1m128/128\u001b[0m \u001b[32m━━━━━━━━━━━━━━━━━━━━\u001b[0m\u001b[37m\u001b[0m \u001b[1m0s\u001b[0m 3ms/step - accuracy: 0.8003 - loss: 0.5023 - val_accuracy: 0.7969 - val_loss: 0.5053\n",
      "Epoch 5/100\n",
      "\u001b[1m128/128\u001b[0m \u001b[32m━━━━━━━━━━━━━━━━━━━━\u001b[0m\u001b[37m\u001b[0m \u001b[1m0s\u001b[0m 3ms/step - accuracy: 0.8009 - loss: 0.5006 - val_accuracy: 0.7969 - val_loss: 0.5047\n",
      "Epoch 6/100\n",
      "\u001b[1m128/128\u001b[0m \u001b[32m━━━━━━━━━━━━━━━━━━━━\u001b[0m\u001b[37m\u001b[0m \u001b[1m0s\u001b[0m 3ms/step - accuracy: 0.7965 - loss: 0.5059 - val_accuracy: 0.7969 - val_loss: 0.5041\n",
      "Epoch 7/100\n",
      "\u001b[1m128/128\u001b[0m \u001b[32m━━━━━━━━━━━━━━━━━━━━\u001b[0m\u001b[37m\u001b[0m \u001b[1m0s\u001b[0m 3ms/step - accuracy: 0.8016 - loss: 0.4987 - val_accuracy: 0.7969 - val_loss: 0.5035\n",
      "Epoch 8/100\n",
      "\u001b[1m128/128\u001b[0m \u001b[32m━━━━━━━━━━━━━━━━━━━━\u001b[0m\u001b[37m\u001b[0m \u001b[1m0s\u001b[0m 3ms/step - accuracy: 0.7983 - loss: 0.5025 - val_accuracy: 0.7969 - val_loss: 0.5031\n",
      "Epoch 9/100\n",
      "\u001b[1m128/128\u001b[0m \u001b[32m━━━━━━━━━━━━━━━━━━━━\u001b[0m\u001b[37m\u001b[0m \u001b[1m0s\u001b[0m 3ms/step - accuracy: 0.7986 - loss: 0.5020 - val_accuracy: 0.7969 - val_loss: 0.5025\n",
      "Epoch 10/100\n",
      "\u001b[1m128/128\u001b[0m \u001b[32m━━━━━━━━━━━━━━━━━━━━\u001b[0m\u001b[37m\u001b[0m \u001b[1m0s\u001b[0m 3ms/step - accuracy: 0.8011 - loss: 0.4979 - val_accuracy: 0.7969 - val_loss: 0.5020\n",
      "Epoch 11/100\n",
      "\u001b[1m128/128\u001b[0m \u001b[32m━━━━━━━━━━━━━━━━━━━━\u001b[0m\u001b[37m\u001b[0m \u001b[1m1s\u001b[0m 3ms/step - accuracy: 0.7933 - loss: 0.5080 - val_accuracy: 0.7969 - val_loss: 0.5014\n",
      "Epoch 12/100\n",
      "\u001b[1m128/128\u001b[0m \u001b[32m━━━━━━━━━━━━━━━━━━━━\u001b[0m\u001b[37m\u001b[0m \u001b[1m0s\u001b[0m 3ms/step - accuracy: 0.8042 - loss: 0.4931 - val_accuracy: 0.7969 - val_loss: 0.5010\n",
      "Epoch 13/100\n",
      "\u001b[1m128/128\u001b[0m \u001b[32m━━━━━━━━━━━━━━━━━━━━\u001b[0m\u001b[37m\u001b[0m \u001b[1m0s\u001b[0m 3ms/step - accuracy: 0.8010 - loss: 0.4975 - val_accuracy: 0.7969 - val_loss: 0.5004\n",
      "Epoch 14/100\n",
      "\u001b[1m128/128\u001b[0m \u001b[32m━━━━━━━━━━━━━━━━━━━━\u001b[0m\u001b[37m\u001b[0m \u001b[1m0s\u001b[0m 3ms/step - accuracy: 0.7956 - loss: 0.5043 - val_accuracy: 0.7969 - val_loss: 0.4999\n",
      "Epoch 15/100\n",
      "\u001b[1m128/128\u001b[0m \u001b[32m━━━━━━━━━━━━━━━━━━━━\u001b[0m\u001b[37m\u001b[0m \u001b[1m0s\u001b[0m 3ms/step - accuracy: 0.8002 - loss: 0.4972 - val_accuracy: 0.7969 - val_loss: 0.4994\n",
      "Epoch 16/100\n",
      "\u001b[1m128/128\u001b[0m \u001b[32m━━━━━━━━━━━━━━━━━━━━\u001b[0m\u001b[37m\u001b[0m \u001b[1m0s\u001b[0m 2ms/step - accuracy: 0.7991 - loss: 0.4976 - val_accuracy: 0.7969 - val_loss: 0.4991\n",
      "Epoch 17/100\n",
      "\u001b[1m128/128\u001b[0m \u001b[32m━━━━━━━━━━━━━━━━━━━━\u001b[0m\u001b[37m\u001b[0m \u001b[1m0s\u001b[0m 3ms/step - accuracy: 0.8012 - loss: 0.4943 - val_accuracy: 0.7969 - val_loss: 0.4987\n",
      "Epoch 18/100\n",
      "\u001b[1m128/128\u001b[0m \u001b[32m━━━━━━━━━━━━━━━━━━━━\u001b[0m\u001b[37m\u001b[0m \u001b[1m0s\u001b[0m 3ms/step - accuracy: 0.7948 - loss: 0.5029 - val_accuracy: 0.7969 - val_loss: 0.4982\n",
      "Epoch 19/100\n",
      "\u001b[1m128/128\u001b[0m \u001b[32m━━━━━━━━━━━━━━━━━━━━\u001b[0m\u001b[37m\u001b[0m \u001b[1m0s\u001b[0m 2ms/step - accuracy: 0.7927 - loss: 0.5049 - val_accuracy: 0.7969 - val_loss: 0.4978\n",
      "Epoch 20/100\n",
      "\u001b[1m128/128\u001b[0m \u001b[32m━━━━━━━━━━━━━━━━━━━━\u001b[0m\u001b[37m\u001b[0m \u001b[1m0s\u001b[0m 2ms/step - accuracy: 0.7964 - loss: 0.4995 - val_accuracy: 0.7969 - val_loss: 0.4974\n",
      "Epoch 21/100\n",
      "\u001b[1m128/128\u001b[0m \u001b[32m━━━━━━━━━━━━━━━━━━━━\u001b[0m\u001b[37m\u001b[0m \u001b[1m0s\u001b[0m 3ms/step - accuracy: 0.7952 - loss: 0.5022 - val_accuracy: 0.7969 - val_loss: 0.4972\n",
      "Epoch 22/100\n",
      "\u001b[1m128/128\u001b[0m \u001b[32m━━━━━━━━━━━━━━━━━━━━\u001b[0m\u001b[37m\u001b[0m \u001b[1m0s\u001b[0m 2ms/step - accuracy: 0.7921 - loss: 0.5058 - val_accuracy: 0.7969 - val_loss: 0.4969\n",
      "Epoch 23/100\n",
      "\u001b[1m128/128\u001b[0m \u001b[32m━━━━━━━━━━━━━━━━━━━━\u001b[0m\u001b[37m\u001b[0m \u001b[1m0s\u001b[0m 2ms/step - accuracy: 0.8001 - loss: 0.4945 - val_accuracy: 0.7969 - val_loss: 0.4968\n",
      "Epoch 24/100\n",
      "\u001b[1m128/128\u001b[0m \u001b[32m━━━━━━━━━━━━━━━━━━━━\u001b[0m\u001b[37m\u001b[0m \u001b[1m0s\u001b[0m 3ms/step - accuracy: 0.8034 - loss: 0.4906 - val_accuracy: 0.7969 - val_loss: 0.4963\n",
      "Epoch 25/100\n",
      "\u001b[1m128/128\u001b[0m \u001b[32m━━━━━━━━━━━━━━━━━━━━\u001b[0m\u001b[37m\u001b[0m \u001b[1m0s\u001b[0m 3ms/step - accuracy: 0.7986 - loss: 0.4977 - val_accuracy: 0.7969 - val_loss: 0.4961\n",
      "Epoch 26/100\n",
      "\u001b[1m128/128\u001b[0m \u001b[32m━━━━━━━━━━━━━━━━━━━━\u001b[0m\u001b[37m\u001b[0m \u001b[1m0s\u001b[0m 3ms/step - accuracy: 0.7982 - loss: 0.4970 - val_accuracy: 0.7969 - val_loss: 0.4960\n",
      "Epoch 27/100\n",
      "\u001b[1m128/128\u001b[0m \u001b[32m━━━━━━━━━━━━━━━━━━━━\u001b[0m\u001b[37m\u001b[0m \u001b[1m0s\u001b[0m 3ms/step - accuracy: 0.7864 - loss: 0.5133 - val_accuracy: 0.7969 - val_loss: 0.4958\n",
      "Epoch 28/100\n",
      "\u001b[1m128/128\u001b[0m \u001b[32m━━━━━━━━━━━━━━━━━━━━\u001b[0m\u001b[37m\u001b[0m \u001b[1m0s\u001b[0m 3ms/step - accuracy: 0.7936 - loss: 0.5036 - val_accuracy: 0.7969 - val_loss: 0.4956\n",
      "Epoch 29/100\n",
      "\u001b[1m128/128\u001b[0m \u001b[32m━━━━━━━━━━━━━━━━━━━━\u001b[0m\u001b[37m\u001b[0m \u001b[1m0s\u001b[0m 3ms/step - accuracy: 0.7852 - loss: 0.5132 - val_accuracy: 0.7969 - val_loss: 0.4957\n",
      "Epoch 30/100\n",
      "\u001b[1m128/128\u001b[0m \u001b[32m━━━━━━━━━━━━━━━━━━━━\u001b[0m\u001b[37m\u001b[0m \u001b[1m0s\u001b[0m 3ms/step - accuracy: 0.7920 - loss: 0.5048 - val_accuracy: 0.7969 - val_loss: 0.4954\n",
      "Epoch 31/100\n",
      "\u001b[1m128/128\u001b[0m \u001b[32m━━━━━━━━━━━━━━━━━━━━\u001b[0m\u001b[37m\u001b[0m \u001b[1m0s\u001b[0m 3ms/step - accuracy: 0.7973 - loss: 0.4989 - val_accuracy: 0.7969 - val_loss: 0.4955\n",
      "Epoch 32/100\n",
      "\u001b[1m128/128\u001b[0m \u001b[32m━━━━━━━━━━━━━━━━━━━━\u001b[0m\u001b[37m\u001b[0m \u001b[1m0s\u001b[0m 3ms/step - accuracy: 0.7992 - loss: 0.4973 - val_accuracy: 0.7969 - val_loss: 0.4954\n",
      "Epoch 33/100\n",
      "\u001b[1m128/128\u001b[0m \u001b[32m━━━━━━━━━━━━━━━━━━━━\u001b[0m\u001b[37m\u001b[0m \u001b[1m0s\u001b[0m 3ms/step - accuracy: 0.7958 - loss: 0.4987 - val_accuracy: 0.7969 - val_loss: 0.4951\n",
      "Epoch 34/100\n",
      "\u001b[1m128/128\u001b[0m \u001b[32m━━━━━━━━━━━━━━━━━━━━\u001b[0m\u001b[37m\u001b[0m \u001b[1m0s\u001b[0m 3ms/step - accuracy: 0.7966 - loss: 0.4981 - val_accuracy: 0.7969 - val_loss: 0.4951\n",
      "Epoch 35/100\n",
      "\u001b[1m128/128\u001b[0m \u001b[32m━━━━━━━━━━━━━━━━━━━━\u001b[0m\u001b[37m\u001b[0m \u001b[1m0s\u001b[0m 3ms/step - accuracy: 0.7948 - loss: 0.5028 - val_accuracy: 0.7969 - val_loss: 0.4952\n",
      "Epoch 36/100\n",
      "\u001b[1m128/128\u001b[0m \u001b[32m━━━━━━━━━━━━━━━━━━━━\u001b[0m\u001b[37m\u001b[0m \u001b[1m0s\u001b[0m 3ms/step - accuracy: 0.7978 - loss: 0.4961 - val_accuracy: 0.7969 - val_loss: 0.4951\n",
      "Epoch 37/100\n",
      "\u001b[1m128/128\u001b[0m \u001b[32m━━━━━━━━━━━━━━━━━━━━\u001b[0m\u001b[37m\u001b[0m \u001b[1m0s\u001b[0m 3ms/step - accuracy: 0.8063 - loss: 0.4850 - val_accuracy: 0.7969 - val_loss: 0.4951\n",
      "Epoch 38/100\n",
      "\u001b[1m128/128\u001b[0m \u001b[32m━━━━━━━━━━━━━━━━━━━━\u001b[0m\u001b[37m\u001b[0m \u001b[1m0s\u001b[0m 2ms/step - accuracy: 0.7922 - loss: 0.5038 - val_accuracy: 0.7969 - val_loss: 0.4950\n",
      "Epoch 39/100\n",
      "\u001b[1m128/128\u001b[0m \u001b[32m━━━━━━━━━━━━━━━━━━━━\u001b[0m\u001b[37m\u001b[0m \u001b[1m0s\u001b[0m 2ms/step - accuracy: 0.7954 - loss: 0.5030 - val_accuracy: 0.7969 - val_loss: 0.4950\n",
      "Epoch 40/100\n",
      "\u001b[1m128/128\u001b[0m \u001b[32m━━━━━━━━━━━━━━━━━━━━\u001b[0m\u001b[37m\u001b[0m \u001b[1m0s\u001b[0m 2ms/step - accuracy: 0.7957 - loss: 0.4987 - val_accuracy: 0.7969 - val_loss: 0.4949\n",
      "Epoch 41/100\n",
      "\u001b[1m128/128\u001b[0m \u001b[32m━━━━━━━━━━━━━━━━━━━━\u001b[0m\u001b[37m\u001b[0m \u001b[1m0s\u001b[0m 3ms/step - accuracy: 0.7939 - loss: 0.5005 - val_accuracy: 0.7969 - val_loss: 0.4948\n",
      "Epoch 42/100\n",
      "\u001b[1m128/128\u001b[0m \u001b[32m━━━━━━━━━━━━━━━━━━━━\u001b[0m\u001b[37m\u001b[0m \u001b[1m0s\u001b[0m 3ms/step - accuracy: 0.8000 - loss: 0.4927 - val_accuracy: 0.7969 - val_loss: 0.4950\n",
      "Epoch 43/100\n",
      "\u001b[1m128/128\u001b[0m \u001b[32m━━━━━━━━━━━━━━━━━━━━\u001b[0m\u001b[37m\u001b[0m \u001b[1m0s\u001b[0m 3ms/step - accuracy: 0.7895 - loss: 0.5067 - val_accuracy: 0.7969 - val_loss: 0.4948\n",
      "Epoch 44/100\n",
      "\u001b[1m128/128\u001b[0m \u001b[32m━━━━━━━━━━━━━━━━━━━━\u001b[0m\u001b[37m\u001b[0m \u001b[1m0s\u001b[0m 2ms/step - accuracy: 0.7929 - loss: 0.5038 - val_accuracy: 0.7969 - val_loss: 0.4948\n",
      "Epoch 45/100\n",
      "\u001b[1m128/128\u001b[0m \u001b[32m━━━━━━━━━━━━━━━━━━━━\u001b[0m\u001b[37m\u001b[0m \u001b[1m0s\u001b[0m 2ms/step - accuracy: 0.7984 - loss: 0.4933 - val_accuracy: 0.7969 - val_loss: 0.4948\n",
      "Epoch 46/100\n",
      "\u001b[1m128/128\u001b[0m \u001b[32m━━━━━━━━━━━━━━━━━━━━\u001b[0m\u001b[37m\u001b[0m \u001b[1m0s\u001b[0m 2ms/step - accuracy: 0.8022 - loss: 0.4893 - val_accuracy: 0.7969 - val_loss: 0.4948\n",
      "Epoch 47/100\n",
      "\u001b[1m128/128\u001b[0m \u001b[32m━━━━━━━━━━━━━━━━━━━━\u001b[0m\u001b[37m\u001b[0m \u001b[1m0s\u001b[0m 3ms/step - accuracy: 0.7955 - loss: 0.4989 - val_accuracy: 0.7969 - val_loss: 0.4948\n",
      "Epoch 48/100\n",
      "\u001b[1m128/128\u001b[0m \u001b[32m━━━━━━━━━━━━━━━━━━━━\u001b[0m\u001b[37m\u001b[0m \u001b[1m0s\u001b[0m 2ms/step - accuracy: 0.7967 - loss: 0.4990 - val_accuracy: 0.7969 - val_loss: 0.4948\n",
      "Epoch 49/100\n",
      "\u001b[1m128/128\u001b[0m \u001b[32m━━━━━━━━━━━━━━━━━━━━\u001b[0m\u001b[37m\u001b[0m \u001b[1m0s\u001b[0m 2ms/step - accuracy: 0.7898 - loss: 0.5079 - val_accuracy: 0.7969 - val_loss: 0.4951\n",
      "Epoch 50/100\n",
      "\u001b[1m128/128\u001b[0m \u001b[32m━━━━━━━━━━━━━━━━━━━━\u001b[0m\u001b[37m\u001b[0m \u001b[1m0s\u001b[0m 3ms/step - accuracy: 0.7962 - loss: 0.4987 - val_accuracy: 0.7969 - val_loss: 0.4948\n",
      "Epoch 51/100\n",
      "\u001b[1m128/128\u001b[0m \u001b[32m━━━━━━━━━━━━━━━━━━━━\u001b[0m\u001b[37m\u001b[0m \u001b[1m0s\u001b[0m 3ms/step - accuracy: 0.7917 - loss: 0.5036 - val_accuracy: 0.7969 - val_loss: 0.4953\n",
      "Epoch 52/100\n",
      "\u001b[1m128/128\u001b[0m \u001b[32m━━━━━━━━━━━━━━━━━━━━\u001b[0m\u001b[37m\u001b[0m \u001b[1m0s\u001b[0m 3ms/step - accuracy: 0.7977 - loss: 0.4962 - val_accuracy: 0.7969 - val_loss: 0.4948\n",
      "Epoch 53/100\n",
      "\u001b[1m128/128\u001b[0m \u001b[32m━━━━━━━━━━━━━━━━━━━━\u001b[0m\u001b[37m\u001b[0m \u001b[1m0s\u001b[0m 3ms/step - accuracy: 0.7963 - loss: 0.4990 - val_accuracy: 0.7969 - val_loss: 0.4949\n",
      "Epoch 54/100\n",
      "\u001b[1m128/128\u001b[0m \u001b[32m━━━━━━━━━━━━━━━━━━━━\u001b[0m\u001b[37m\u001b[0m \u001b[1m0s\u001b[0m 3ms/step - accuracy: 0.8010 - loss: 0.4920 - val_accuracy: 0.7969 - val_loss: 0.4950\n",
      "Epoch 55/100\n",
      "\u001b[1m128/128\u001b[0m \u001b[32m━━━━━━━━━━━━━━━━━━━━\u001b[0m\u001b[37m\u001b[0m \u001b[1m0s\u001b[0m 3ms/step - accuracy: 0.8095 - loss: 0.4822 - val_accuracy: 0.7969 - val_loss: 0.4950\n",
      "Epoch 56/100\n",
      "\u001b[1m128/128\u001b[0m \u001b[32m━━━━━━━━━━━━━━━━━━━━\u001b[0m\u001b[37m\u001b[0m \u001b[1m0s\u001b[0m 3ms/step - accuracy: 0.7956 - loss: 0.5003 - val_accuracy: 0.7969 - val_loss: 0.4948\n",
      "Epoch 57/100\n",
      "\u001b[1m128/128\u001b[0m \u001b[32m━━━━━━━━━━━━━━━━━━━━\u001b[0m\u001b[37m\u001b[0m \u001b[1m0s\u001b[0m 3ms/step - accuracy: 0.7920 - loss: 0.5028 - val_accuracy: 0.7969 - val_loss: 0.4952\n",
      "Epoch 58/100\n",
      "\u001b[1m128/128\u001b[0m \u001b[32m━━━━━━━━━━━━━━━━━━━━\u001b[0m\u001b[37m\u001b[0m \u001b[1m0s\u001b[0m 3ms/step - accuracy: 0.7977 - loss: 0.4965 - val_accuracy: 0.7969 - val_loss: 0.4949\n",
      "Epoch 59/100\n",
      "\u001b[1m128/128\u001b[0m \u001b[32m━━━━━━━━━━━━━━━━━━━━\u001b[0m\u001b[37m\u001b[0m \u001b[1m0s\u001b[0m 3ms/step - accuracy: 0.7959 - loss: 0.5014 - val_accuracy: 0.7969 - val_loss: 0.4950\n",
      "Epoch 60/100\n",
      "\u001b[1m128/128\u001b[0m \u001b[32m━━━━━━━━━━━━━━━━━━━━\u001b[0m\u001b[37m\u001b[0m \u001b[1m0s\u001b[0m 3ms/step - accuracy: 0.7967 - loss: 0.4975 - val_accuracy: 0.7969 - val_loss: 0.4948\n",
      "Epoch 61/100\n",
      "\u001b[1m128/128\u001b[0m \u001b[32m━━━━━━━━━━━━━━━━━━━━\u001b[0m\u001b[37m\u001b[0m \u001b[1m0s\u001b[0m 3ms/step - accuracy: 0.7927 - loss: 0.5016 - val_accuracy: 0.7969 - val_loss: 0.4949\n",
      "Epoch 62/100\n",
      "\u001b[1m128/128\u001b[0m \u001b[32m━━━━━━━━━━━━━━━━━━━━\u001b[0m\u001b[37m\u001b[0m \u001b[1m0s\u001b[0m 3ms/step - accuracy: 0.7914 - loss: 0.5045 - val_accuracy: 0.7969 - val_loss: 0.4951\n",
      "Epoch 63/100\n",
      "\u001b[1m128/128\u001b[0m \u001b[32m━━━━━━━━━━━━━━━━━━━━\u001b[0m\u001b[37m\u001b[0m \u001b[1m0s\u001b[0m 3ms/step - accuracy: 0.8007 - loss: 0.4932 - val_accuracy: 0.7969 - val_loss: 0.4951\n",
      "Epoch 64/100\n",
      "\u001b[1m128/128\u001b[0m \u001b[32m━━━━━━━━━━━━━━━━━━━━\u001b[0m\u001b[37m\u001b[0m \u001b[1m0s\u001b[0m 3ms/step - accuracy: 0.7892 - loss: 0.5064 - val_accuracy: 0.7969 - val_loss: 0.4949\n",
      "Epoch 65/100\n",
      "\u001b[1m128/128\u001b[0m \u001b[32m━━━━━━━━━━━━━━━━━━━━\u001b[0m\u001b[37m\u001b[0m \u001b[1m0s\u001b[0m 3ms/step - accuracy: 0.7902 - loss: 0.5078 - val_accuracy: 0.7969 - val_loss: 0.4951\n",
      "Epoch 66/100\n",
      "\u001b[1m128/128\u001b[0m \u001b[32m━━━━━━━━━━━━━━━━━━━━\u001b[0m\u001b[37m\u001b[0m \u001b[1m0s\u001b[0m 3ms/step - accuracy: 0.7927 - loss: 0.5039 - val_accuracy: 0.7969 - val_loss: 0.4948\n",
      "Epoch 67/100\n",
      "\u001b[1m128/128\u001b[0m \u001b[32m━━━━━━━━━━━━━━━━━━━━\u001b[0m\u001b[37m\u001b[0m \u001b[1m0s\u001b[0m 2ms/step - accuracy: 0.7915 - loss: 0.5044 - val_accuracy: 0.7969 - val_loss: 0.4949\n",
      "Epoch 68/100\n",
      "\u001b[1m128/128\u001b[0m \u001b[32m━━━━━━━━━━━━━━━━━━━━\u001b[0m\u001b[37m\u001b[0m \u001b[1m0s\u001b[0m 3ms/step - accuracy: 0.8005 - loss: 0.4929 - val_accuracy: 0.7969 - val_loss: 0.4949\n",
      "Epoch 69/100\n",
      "\u001b[1m128/128\u001b[0m \u001b[32m━━━━━━━━━━━━━━━━━━━━\u001b[0m\u001b[37m\u001b[0m \u001b[1m0s\u001b[0m 2ms/step - accuracy: 0.7925 - loss: 0.5031 - val_accuracy: 0.7969 - val_loss: 0.4949\n",
      "Epoch 70/100\n",
      "\u001b[1m128/128\u001b[0m \u001b[32m━━━━━━━━━━━━━━━━━━━━\u001b[0m\u001b[37m\u001b[0m \u001b[1m0s\u001b[0m 3ms/step - accuracy: 0.7965 - loss: 0.4985 - val_accuracy: 0.7969 - val_loss: 0.4950\n",
      "Epoch 71/100\n",
      "\u001b[1m128/128\u001b[0m \u001b[32m━━━━━━━━━━━━━━━━━━━━\u001b[0m\u001b[37m\u001b[0m \u001b[1m0s\u001b[0m 3ms/step - accuracy: 0.8022 - loss: 0.4880 - val_accuracy: 0.7969 - val_loss: 0.4965\n",
      "Epoch 72/100\n",
      "\u001b[1m128/128\u001b[0m \u001b[32m━━━━━━━━━━━━━━━━━━━━\u001b[0m\u001b[37m\u001b[0m \u001b[1m0s\u001b[0m 3ms/step - accuracy: 0.7957 - loss: 0.5020 - val_accuracy: 0.7969 - val_loss: 0.4949\n",
      "Epoch 73/100\n",
      "\u001b[1m128/128\u001b[0m \u001b[32m━━━━━━━━━━━━━━━━━━━━\u001b[0m\u001b[37m\u001b[0m \u001b[1m0s\u001b[0m 3ms/step - accuracy: 0.7989 - loss: 0.4940 - val_accuracy: 0.7969 - val_loss: 0.4955\n",
      "Epoch 74/100\n",
      "\u001b[1m128/128\u001b[0m \u001b[32m━━━━━━━━━━━━━━━━━━━━\u001b[0m\u001b[37m\u001b[0m \u001b[1m0s\u001b[0m 2ms/step - accuracy: 0.7971 - loss: 0.4972 - val_accuracy: 0.7969 - val_loss: 0.4949\n",
      "Epoch 75/100\n",
      "\u001b[1m128/128\u001b[0m \u001b[32m━━━━━━━━━━━━━━━━━━━━\u001b[0m\u001b[37m\u001b[0m \u001b[1m0s\u001b[0m 3ms/step - accuracy: 0.7885 - loss: 0.5084 - val_accuracy: 0.7969 - val_loss: 0.4949\n",
      "Epoch 76/100\n",
      "\u001b[1m128/128\u001b[0m \u001b[32m━━━━━━━━━━━━━━━━━━━━\u001b[0m\u001b[37m\u001b[0m \u001b[1m0s\u001b[0m 2ms/step - accuracy: 0.8006 - loss: 0.4917 - val_accuracy: 0.7969 - val_loss: 0.4949\n",
      "Epoch 77/100\n",
      "\u001b[1m128/128\u001b[0m \u001b[32m━━━━━━━━━━━━━━━━━━━━\u001b[0m\u001b[37m\u001b[0m \u001b[1m0s\u001b[0m 3ms/step - accuracy: 0.7897 - loss: 0.5066 - val_accuracy: 0.7969 - val_loss: 0.4950\n",
      "Epoch 78/100\n",
      "\u001b[1m128/128\u001b[0m \u001b[32m━━━━━━━━━━━━━━━━━━━━\u001b[0m\u001b[37m\u001b[0m \u001b[1m0s\u001b[0m 3ms/step - accuracy: 0.7986 - loss: 0.4945 - val_accuracy: 0.7969 - val_loss: 0.4949\n",
      "Epoch 79/100\n",
      "\u001b[1m128/128\u001b[0m \u001b[32m━━━━━━━━━━━━━━━━━━━━\u001b[0m\u001b[37m\u001b[0m \u001b[1m0s\u001b[0m 3ms/step - accuracy: 0.7976 - loss: 0.4973 - val_accuracy: 0.7969 - val_loss: 0.4949\n",
      "Epoch 80/100\n",
      "\u001b[1m128/128\u001b[0m \u001b[32m━━━━━━━━━━━━━━━━━━━━\u001b[0m\u001b[37m\u001b[0m \u001b[1m0s\u001b[0m 2ms/step - accuracy: 0.7964 - loss: 0.4984 - val_accuracy: 0.7969 - val_loss: 0.4949\n",
      "Epoch 81/100\n",
      "\u001b[1m128/128\u001b[0m \u001b[32m━━━━━━━━━━━━━━━━━━━━\u001b[0m\u001b[37m\u001b[0m \u001b[1m0s\u001b[0m 3ms/step - accuracy: 0.7987 - loss: 0.4962 - val_accuracy: 0.7969 - val_loss: 0.4949\n",
      "Epoch 82/100\n",
      "\u001b[1m128/128\u001b[0m \u001b[32m━━━━━━━━━━━━━━━━━━━━\u001b[0m\u001b[37m\u001b[0m \u001b[1m0s\u001b[0m 3ms/step - accuracy: 0.7934 - loss: 0.4991 - val_accuracy: 0.7969 - val_loss: 0.4949\n",
      "Epoch 83/100\n",
      "\u001b[1m128/128\u001b[0m \u001b[32m━━━━━━━━━━━━━━━━━━━━\u001b[0m\u001b[37m\u001b[0m \u001b[1m0s\u001b[0m 2ms/step - accuracy: 0.7947 - loss: 0.5022 - val_accuracy: 0.7969 - val_loss: 0.4949\n",
      "Epoch 84/100\n",
      "\u001b[1m128/128\u001b[0m \u001b[32m━━━━━━━━━━━━━━━━━━━━\u001b[0m\u001b[37m\u001b[0m \u001b[1m0s\u001b[0m 2ms/step - accuracy: 0.7946 - loss: 0.5007 - val_accuracy: 0.7969 - val_loss: 0.4950\n",
      "Epoch 85/100\n",
      "\u001b[1m128/128\u001b[0m \u001b[32m━━━━━━━━━━━━━━━━━━━━\u001b[0m\u001b[37m\u001b[0m \u001b[1m0s\u001b[0m 2ms/step - accuracy: 0.7959 - loss: 0.4994 - val_accuracy: 0.7969 - val_loss: 0.4949\n",
      "Epoch 86/100\n",
      "\u001b[1m128/128\u001b[0m \u001b[32m━━━━━━━━━━━━━━━━━━━━\u001b[0m\u001b[37m\u001b[0m \u001b[1m0s\u001b[0m 2ms/step - accuracy: 0.7989 - loss: 0.4950 - val_accuracy: 0.7969 - val_loss: 0.4950\n",
      "Epoch 87/100\n",
      "\u001b[1m128/128\u001b[0m \u001b[32m━━━━━━━━━━━━━━━━━━━━\u001b[0m\u001b[37m\u001b[0m \u001b[1m0s\u001b[0m 3ms/step - accuracy: 0.7895 - loss: 0.5075 - val_accuracy: 0.7969 - val_loss: 0.4950\n",
      "Epoch 88/100\n",
      "\u001b[1m128/128\u001b[0m \u001b[32m━━━━━━━━━━━━━━━━━━━━\u001b[0m\u001b[37m\u001b[0m \u001b[1m0s\u001b[0m 3ms/step - accuracy: 0.7945 - loss: 0.5007 - val_accuracy: 0.7969 - val_loss: 0.4951\n",
      "Epoch 89/100\n",
      "\u001b[1m128/128\u001b[0m \u001b[32m━━━━━━━━━━━━━━━━━━━━\u001b[0m\u001b[37m\u001b[0m \u001b[1m0s\u001b[0m 3ms/step - accuracy: 0.7953 - loss: 0.5005 - val_accuracy: 0.7969 - val_loss: 0.4949\n",
      "Epoch 90/100\n",
      "\u001b[1m128/128\u001b[0m \u001b[32m━━━━━━━━━━━━━━━━━━━━\u001b[0m\u001b[37m\u001b[0m \u001b[1m0s\u001b[0m 3ms/step - accuracy: 0.7960 - loss: 0.4982 - val_accuracy: 0.7969 - val_loss: 0.4953\n",
      "Epoch 91/100\n",
      "\u001b[1m128/128\u001b[0m \u001b[32m━━━━━━━━━━━━━━━━━━━━\u001b[0m\u001b[37m\u001b[0m \u001b[1m0s\u001b[0m 3ms/step - accuracy: 0.7957 - loss: 0.4986 - val_accuracy: 0.7969 - val_loss: 0.4949\n",
      "Epoch 92/100\n",
      "\u001b[1m128/128\u001b[0m \u001b[32m━━━━━━━━━━━━━━━━━━━━\u001b[0m\u001b[37m\u001b[0m \u001b[1m0s\u001b[0m 3ms/step - accuracy: 0.7960 - loss: 0.5000 - val_accuracy: 0.7969 - val_loss: 0.4950\n",
      "Epoch 93/100\n",
      "\u001b[1m128/128\u001b[0m \u001b[32m━━━━━━━━━━━━━━━━━━━━\u001b[0m\u001b[37m\u001b[0m \u001b[1m0s\u001b[0m 3ms/step - accuracy: 0.7993 - loss: 0.4935 - val_accuracy: 0.7969 - val_loss: 0.4949\n",
      "Epoch 94/100\n",
      "\u001b[1m128/128\u001b[0m \u001b[32m━━━━━━━━━━━━━━━━━━━━\u001b[0m\u001b[37m\u001b[0m \u001b[1m0s\u001b[0m 3ms/step - accuracy: 0.7965 - loss: 0.4988 - val_accuracy: 0.7969 - val_loss: 0.4950\n",
      "Epoch 95/100\n",
      "\u001b[1m128/128\u001b[0m \u001b[32m━━━━━━━━━━━━━━━━━━━━\u001b[0m\u001b[37m\u001b[0m \u001b[1m0s\u001b[0m 3ms/step - accuracy: 0.7958 - loss: 0.4963 - val_accuracy: 0.7969 - val_loss: 0.4949\n",
      "Epoch 96/100\n",
      "\u001b[1m128/128\u001b[0m \u001b[32m━━━━━━━━━━━━━━━━━━━━\u001b[0m\u001b[37m\u001b[0m \u001b[1m0s\u001b[0m 3ms/step - accuracy: 0.8073 - loss: 0.4825 - val_accuracy: 0.7969 - val_loss: 0.4951\n",
      "Epoch 97/100\n",
      "\u001b[1m128/128\u001b[0m \u001b[32m━━━━━━━━━━━━━━━━━━━━\u001b[0m\u001b[37m\u001b[0m \u001b[1m0s\u001b[0m 3ms/step - accuracy: 0.7920 - loss: 0.5020 - val_accuracy: 0.7969 - val_loss: 0.4950\n",
      "Epoch 98/100\n",
      "\u001b[1m128/128\u001b[0m \u001b[32m━━━━━━━━━━━━━━━━━━━━\u001b[0m\u001b[37m\u001b[0m \u001b[1m0s\u001b[0m 3ms/step - accuracy: 0.8046 - loss: 0.4893 - val_accuracy: 0.7969 - val_loss: 0.4952\n",
      "Epoch 99/100\n",
      "\u001b[1m128/128\u001b[0m \u001b[32m━━━━━━━━━━━━━━━━━━━━\u001b[0m\u001b[37m\u001b[0m \u001b[1m0s\u001b[0m 3ms/step - accuracy: 0.7876 - loss: 0.5110 - val_accuracy: 0.7969 - val_loss: 0.4953\n",
      "Epoch 100/100\n",
      "\u001b[1m128/128\u001b[0m \u001b[32m━━━━━━━━━━━━━━━━━━━━\u001b[0m\u001b[37m\u001b[0m \u001b[1m0s\u001b[0m 3ms/step - accuracy: 0.7979 - loss: 0.4978 - val_accuracy: 0.7969 - val_loss: 0.4949\n"
     ]
    }
   ],
   "source": [
    "history = model.fit(X_train,Y_train,batch_size=50,epochs=100,verbose=1,validation_split=0.2)"
   ]
  },
  {
   "cell_type": "code",
   "execution_count": 24,
   "id": "352d1014",
   "metadata": {
    "execution": {
     "iopub.execute_input": "2025-07-22T17:43:06.153391Z",
     "iopub.status.busy": "2025-07-22T17:43:06.152477Z",
     "iopub.status.idle": "2025-07-22T17:43:06.449022Z",
     "shell.execute_reply": "2025-07-22T17:43:06.448036Z"
    },
    "papermill": {
     "duration": 0.414182,
     "end_time": "2025-07-22T17:43:06.450958",
     "exception": false,
     "start_time": "2025-07-22T17:43:06.036776",
     "status": "completed"
    },
    "tags": []
   },
   "outputs": [
    {
     "name": "stdout",
     "output_type": "stream",
     "text": [
      "\u001b[1m63/63\u001b[0m \u001b[32m━━━━━━━━━━━━━━━━━━━━\u001b[0m\u001b[37m\u001b[0m \u001b[1m0s\u001b[0m 2ms/step\n"
     ]
    }
   ],
   "source": [
    "y_pred = model.predict(X_test)"
   ]
  },
  {
   "cell_type": "code",
   "execution_count": 25,
   "id": "9aab5ab7",
   "metadata": {
    "execution": {
     "iopub.execute_input": "2025-07-22T17:43:06.535613Z",
     "iopub.status.busy": "2025-07-22T17:43:06.535309Z",
     "iopub.status.idle": "2025-07-22T17:43:06.541325Z",
     "shell.execute_reply": "2025-07-22T17:43:06.540500Z"
    },
    "papermill": {
     "duration": 0.049283,
     "end_time": "2025-07-22T17:43:06.542597",
     "exception": false,
     "start_time": "2025-07-22T17:43:06.493314",
     "status": "completed"
    },
    "tags": []
   },
   "outputs": [
    {
     "data": {
      "text/plain": [
       "array([[0.2414159 ],\n",
       "       [0.2414159 ],\n",
       "       [0.2414159 ],\n",
       "       ...,\n",
       "       [0.2414159 ],\n",
       "       [0.24755228],\n",
       "       [0.2414159 ]], dtype=float32)"
      ]
     },
     "execution_count": 25,
     "metadata": {},
     "output_type": "execute_result"
    }
   ],
   "source": [
    "y_pred"
   ]
  },
  {
   "cell_type": "code",
   "execution_count": 26,
   "id": "1b9abeee",
   "metadata": {
    "execution": {
     "iopub.execute_input": "2025-07-22T17:43:06.627122Z",
     "iopub.status.busy": "2025-07-22T17:43:06.626779Z",
     "iopub.status.idle": "2025-07-22T17:43:06.631325Z",
     "shell.execute_reply": "2025-07-22T17:43:06.630575Z"
    },
    "papermill": {
     "duration": 0.049519,
     "end_time": "2025-07-22T17:43:06.632776",
     "exception": false,
     "start_time": "2025-07-22T17:43:06.583257",
     "status": "completed"
    },
    "tags": []
   },
   "outputs": [],
   "source": [
    "y_pred = y_pred.argmax(axis=-1)"
   ]
  },
  {
   "cell_type": "code",
   "execution_count": 27,
   "id": "a96b3f28",
   "metadata": {
    "execution": {
     "iopub.execute_input": "2025-07-22T17:43:06.716223Z",
     "iopub.status.busy": "2025-07-22T17:43:06.715498Z",
     "iopub.status.idle": "2025-07-22T17:43:06.721021Z",
     "shell.execute_reply": "2025-07-22T17:43:06.720297Z"
    },
    "papermill": {
     "duration": 0.049071,
     "end_time": "2025-07-22T17:43:06.722634",
     "exception": false,
     "start_time": "2025-07-22T17:43:06.673563",
     "status": "completed"
    },
    "tags": []
   },
   "outputs": [
    {
     "data": {
      "text/plain": [
       "array([0, 0, 0, ..., 0, 0, 0])"
      ]
     },
     "execution_count": 27,
     "metadata": {},
     "output_type": "execute_result"
    }
   ],
   "source": [
    "y_pred"
   ]
  },
  {
   "cell_type": "code",
   "execution_count": 28,
   "id": "00ca5bbd",
   "metadata": {
    "execution": {
     "iopub.execute_input": "2025-07-22T17:43:06.808227Z",
     "iopub.status.busy": "2025-07-22T17:43:06.807287Z",
     "iopub.status.idle": "2025-07-22T17:43:06.814522Z",
     "shell.execute_reply": "2025-07-22T17:43:06.813668Z"
    },
    "papermill": {
     "duration": 0.050047,
     "end_time": "2025-07-22T17:43:06.815914",
     "exception": false,
     "start_time": "2025-07-22T17:43:06.765867",
     "status": "completed"
    },
    "tags": []
   },
   "outputs": [
    {
     "data": {
      "text/plain": [
       "0.7975"
      ]
     },
     "execution_count": 28,
     "metadata": {},
     "output_type": "execute_result"
    }
   ],
   "source": [
    "from sklearn.metrics import accuracy_score\n",
    "accuracy_score(Y_test,y_pred)"
   ]
  },
  {
   "cell_type": "code",
   "execution_count": 29,
   "id": "f83770a5",
   "metadata": {
    "execution": {
     "iopub.execute_input": "2025-07-22T17:43:06.899531Z",
     "iopub.status.busy": "2025-07-22T17:43:06.899227Z",
     "iopub.status.idle": "2025-07-22T17:43:06.906956Z",
     "shell.execute_reply": "2025-07-22T17:43:06.906153Z"
    },
    "papermill": {
     "duration": 0.05123,
     "end_time": "2025-07-22T17:43:06.908296",
     "exception": false,
     "start_time": "2025-07-22T17:43:06.857066",
     "status": "completed"
    },
    "tags": []
   },
   "outputs": [
    {
     "data": {
      "text/plain": [
       "{'accuracy': [0.40937501192092896,\n",
       "  0.7957812547683716,\n",
       "  0.7957812547683716,\n",
       "  0.7957812547683716,\n",
       "  0.7957812547683716,\n",
       "  0.7957812547683716,\n",
       "  0.7957812547683716,\n",
       "  0.7957812547683716,\n",
       "  0.7957812547683716,\n",
       "  0.7957812547683716,\n",
       "  0.7957812547683716,\n",
       "  0.7957812547683716,\n",
       "  0.7957812547683716,\n",
       "  0.7957812547683716,\n",
       "  0.7957812547683716,\n",
       "  0.7957812547683716,\n",
       "  0.7957812547683716,\n",
       "  0.7957812547683716,\n",
       "  0.7957812547683716,\n",
       "  0.7957812547683716,\n",
       "  0.7957812547683716,\n",
       "  0.7957812547683716,\n",
       "  0.7957812547683716,\n",
       "  0.7957812547683716,\n",
       "  0.7957812547683716,\n",
       "  0.7957812547683716,\n",
       "  0.7957812547683716,\n",
       "  0.7957812547683716,\n",
       "  0.7957812547683716,\n",
       "  0.7957812547683716,\n",
       "  0.7957812547683716,\n",
       "  0.7957812547683716,\n",
       "  0.7957812547683716,\n",
       "  0.7957812547683716,\n",
       "  0.7957812547683716,\n",
       "  0.7957812547683716,\n",
       "  0.7957812547683716,\n",
       "  0.7957812547683716,\n",
       "  0.7957812547683716,\n",
       "  0.7957812547683716,\n",
       "  0.7957812547683716,\n",
       "  0.7957812547683716,\n",
       "  0.7957812547683716,\n",
       "  0.7957812547683716,\n",
       "  0.7957812547683716,\n",
       "  0.7957812547683716,\n",
       "  0.7957812547683716,\n",
       "  0.7957812547683716,\n",
       "  0.7957812547683716,\n",
       "  0.7957812547683716,\n",
       "  0.7957812547683716,\n",
       "  0.7957812547683716,\n",
       "  0.7957812547683716,\n",
       "  0.7957812547683716,\n",
       "  0.7957812547683716,\n",
       "  0.7957812547683716,\n",
       "  0.7957812547683716,\n",
       "  0.7957812547683716,\n",
       "  0.7957812547683716,\n",
       "  0.7957812547683716,\n",
       "  0.7957812547683716,\n",
       "  0.7957812547683716,\n",
       "  0.7957812547683716,\n",
       "  0.7957812547683716,\n",
       "  0.7957812547683716,\n",
       "  0.7957812547683716,\n",
       "  0.7957812547683716,\n",
       "  0.7957812547683716,\n",
       "  0.7957812547683716,\n",
       "  0.7957812547683716,\n",
       "  0.7957812547683716,\n",
       "  0.7957812547683716,\n",
       "  0.7957812547683716,\n",
       "  0.7957812547683716,\n",
       "  0.7957812547683716,\n",
       "  0.7957812547683716,\n",
       "  0.7957812547683716,\n",
       "  0.7957812547683716,\n",
       "  0.7957812547683716,\n",
       "  0.7957812547683716,\n",
       "  0.7957812547683716,\n",
       "  0.7957812547683716,\n",
       "  0.7957812547683716,\n",
       "  0.7957812547683716,\n",
       "  0.7957812547683716,\n",
       "  0.7957812547683716,\n",
       "  0.7957812547683716,\n",
       "  0.7957812547683716,\n",
       "  0.7957812547683716,\n",
       "  0.7957812547683716,\n",
       "  0.7957812547683716,\n",
       "  0.7957812547683716,\n",
       "  0.7957812547683716,\n",
       "  0.7957812547683716,\n",
       "  0.7957812547683716,\n",
       "  0.7957812547683716,\n",
       "  0.7957812547683716,\n",
       "  0.7957812547683716,\n",
       "  0.7957812547683716,\n",
       "  0.7957812547683716],\n",
       " 'loss': [0.7932807803153992,\n",
       "  0.543170690536499,\n",
       "  0.5109118223190308,\n",
       "  0.5077629089355469,\n",
       "  0.5071865916252136,\n",
       "  0.5067038536071777,\n",
       "  0.5062517523765564,\n",
       "  0.5059130787849426,\n",
       "  0.5053375363349915,\n",
       "  0.5048444271087646,\n",
       "  0.504432737827301,\n",
       "  0.5040493011474609,\n",
       "  0.5036298632621765,\n",
       "  0.5032171010971069,\n",
       "  0.5028173923492432,\n",
       "  0.5024640560150146,\n",
       "  0.5022752285003662,\n",
       "  0.5018454194068909,\n",
       "  0.5014694929122925,\n",
       "  0.5012125372886658,\n",
       "  0.5009908080101013,\n",
       "  0.5007645487785339,\n",
       "  0.5003821849822998,\n",
       "  0.5003287196159363,\n",
       "  0.5001768469810486,\n",
       "  0.5000665783882141,\n",
       "  0.49971631169319153,\n",
       "  0.49976471066474915,\n",
       "  0.4993741512298584,\n",
       "  0.499725878238678,\n",
       "  0.4993531405925751,\n",
       "  0.49954909086227417,\n",
       "  0.49947014451026917,\n",
       "  0.49918800592422485,\n",
       "  0.4992746114730835,\n",
       "  0.4991401433944702,\n",
       "  0.49919915199279785,\n",
       "  0.499133825302124,\n",
       "  0.49919646978378296,\n",
       "  0.4991787374019623,\n",
       "  0.49920859932899475,\n",
       "  0.4991368055343628,\n",
       "  0.49902042746543884,\n",
       "  0.4991803467273712,\n",
       "  0.4991007149219513,\n",
       "  0.4991268217563629,\n",
       "  0.499109148979187,\n",
       "  0.4990508556365967,\n",
       "  0.4988870322704315,\n",
       "  0.4990912675857544,\n",
       "  0.49905863404273987,\n",
       "  0.4990431070327759,\n",
       "  0.49908050894737244,\n",
       "  0.49892666935920715,\n",
       "  0.49901866912841797,\n",
       "  0.49930787086486816,\n",
       "  0.49894192814826965,\n",
       "  0.4990748167037964,\n",
       "  0.49893248081207275,\n",
       "  0.49912333488464355,\n",
       "  0.49907052516937256,\n",
       "  0.4990229308605194,\n",
       "  0.49889281392097473,\n",
       "  0.4989900290966034,\n",
       "  0.49897220730781555,\n",
       "  0.4990564286708832,\n",
       "  0.4989955425262451,\n",
       "  0.4989159107208252,\n",
       "  0.4990367591381073,\n",
       "  0.49903449416160583,\n",
       "  0.4988592267036438,\n",
       "  0.49919384717941284,\n",
       "  0.4989888072013855,\n",
       "  0.4990038573741913,\n",
       "  0.49903392791748047,\n",
       "  0.49895423650741577,\n",
       "  0.49922141432762146,\n",
       "  0.4990217685699463,\n",
       "  0.49906039237976074,\n",
       "  0.49895885586738586,\n",
       "  0.4990282356739044,\n",
       "  0.49907660484313965,\n",
       "  0.4989914000034332,\n",
       "  0.49908775091171265,\n",
       "  0.499016672372818,\n",
       "  0.49895787239074707,\n",
       "  0.4991547763347626,\n",
       "  0.4988468289375305,\n",
       "  0.4989785850048065,\n",
       "  0.49902260303497314,\n",
       "  0.4988865554332733,\n",
       "  0.49910521507263184,\n",
       "  0.498906672000885,\n",
       "  0.4990241229534149,\n",
       "  0.4989163875579834,\n",
       "  0.49888667464256287,\n",
       "  0.4989031255245209,\n",
       "  0.49882039427757263,\n",
       "  0.498668372631073,\n",
       "  0.49915677309036255],\n",
       " 'val_accuracy': [0.7962499856948853,\n",
       "  0.796875,\n",
       "  0.796875,\n",
       "  0.796875,\n",
       "  0.796875,\n",
       "  0.796875,\n",
       "  0.796875,\n",
       "  0.796875,\n",
       "  0.796875,\n",
       "  0.796875,\n",
       "  0.796875,\n",
       "  0.796875,\n",
       "  0.796875,\n",
       "  0.796875,\n",
       "  0.796875,\n",
       "  0.796875,\n",
       "  0.796875,\n",
       "  0.796875,\n",
       "  0.796875,\n",
       "  0.796875,\n",
       "  0.796875,\n",
       "  0.796875,\n",
       "  0.796875,\n",
       "  0.796875,\n",
       "  0.796875,\n",
       "  0.796875,\n",
       "  0.796875,\n",
       "  0.796875,\n",
       "  0.796875,\n",
       "  0.796875,\n",
       "  0.796875,\n",
       "  0.796875,\n",
       "  0.796875,\n",
       "  0.796875,\n",
       "  0.796875,\n",
       "  0.796875,\n",
       "  0.796875,\n",
       "  0.796875,\n",
       "  0.796875,\n",
       "  0.796875,\n",
       "  0.796875,\n",
       "  0.796875,\n",
       "  0.796875,\n",
       "  0.796875,\n",
       "  0.796875,\n",
       "  0.796875,\n",
       "  0.796875,\n",
       "  0.796875,\n",
       "  0.796875,\n",
       "  0.796875,\n",
       "  0.796875,\n",
       "  0.796875,\n",
       "  0.796875,\n",
       "  0.796875,\n",
       "  0.796875,\n",
       "  0.796875,\n",
       "  0.796875,\n",
       "  0.796875,\n",
       "  0.796875,\n",
       "  0.796875,\n",
       "  0.796875,\n",
       "  0.796875,\n",
       "  0.796875,\n",
       "  0.796875,\n",
       "  0.796875,\n",
       "  0.796875,\n",
       "  0.796875,\n",
       "  0.796875,\n",
       "  0.796875,\n",
       "  0.796875,\n",
       "  0.796875,\n",
       "  0.796875,\n",
       "  0.796875,\n",
       "  0.796875,\n",
       "  0.796875,\n",
       "  0.796875,\n",
       "  0.796875,\n",
       "  0.796875,\n",
       "  0.796875,\n",
       "  0.796875,\n",
       "  0.796875,\n",
       "  0.796875,\n",
       "  0.796875,\n",
       "  0.796875,\n",
       "  0.796875,\n",
       "  0.796875,\n",
       "  0.796875,\n",
       "  0.796875,\n",
       "  0.796875,\n",
       "  0.796875,\n",
       "  0.796875,\n",
       "  0.796875,\n",
       "  0.796875,\n",
       "  0.796875,\n",
       "  0.796875,\n",
       "  0.796875,\n",
       "  0.796875,\n",
       "  0.796875,\n",
       "  0.796875,\n",
       "  0.796875],\n",
       " 'val_loss': [0.5979655385017395,\n",
       "  0.51524817943573,\n",
       "  0.5066989660263062,\n",
       "  0.505326509475708,\n",
       "  0.5047091841697693,\n",
       "  0.5040684342384338,\n",
       "  0.5034834146499634,\n",
       "  0.503079891204834,\n",
       "  0.5024849772453308,\n",
       "  0.5019916296005249,\n",
       "  0.5013717412948608,\n",
       "  0.5010101795196533,\n",
       "  0.5004404187202454,\n",
       "  0.4998776614665985,\n",
       "  0.4994247555732727,\n",
       "  0.4990766942501068,\n",
       "  0.4987158179283142,\n",
       "  0.4981966018676758,\n",
       "  0.49780791997909546,\n",
       "  0.497430682182312,\n",
       "  0.49718165397644043,\n",
       "  0.4968506991863251,\n",
       "  0.49681270122528076,\n",
       "  0.4963391423225403,\n",
       "  0.49609747529029846,\n",
       "  0.49597930908203125,\n",
       "  0.49577832221984863,\n",
       "  0.4955708682537079,\n",
       "  0.49571529030799866,\n",
       "  0.495431512594223,\n",
       "  0.49546611309051514,\n",
       "  0.4953835606575012,\n",
       "  0.4951381981372833,\n",
       "  0.49507853388786316,\n",
       "  0.4951861500740051,\n",
       "  0.4950914680957794,\n",
       "  0.49506717920303345,\n",
       "  0.4949803054332733,\n",
       "  0.4949781000614166,\n",
       "  0.4948791265487671,\n",
       "  0.49482595920562744,\n",
       "  0.49495354294776917,\n",
       "  0.49482274055480957,\n",
       "  0.49481379985809326,\n",
       "  0.4948104918003082,\n",
       "  0.4948197305202484,\n",
       "  0.4948408007621765,\n",
       "  0.49481478333473206,\n",
       "  0.4951474368572235,\n",
       "  0.49480995535850525,\n",
       "  0.4953228831291199,\n",
       "  0.49482104182243347,\n",
       "  0.49488013982772827,\n",
       "  0.49499228596687317,\n",
       "  0.495031476020813,\n",
       "  0.4948381185531616,\n",
       "  0.4951956868171692,\n",
       "  0.49489256739616394,\n",
       "  0.4949951171875,\n",
       "  0.4948245584964752,\n",
       "  0.49489352107048035,\n",
       "  0.495086669921875,\n",
       "  0.49505165219306946,\n",
       "  0.49491581320762634,\n",
       "  0.49510279297828674,\n",
       "  0.4948464334011078,\n",
       "  0.49488213658332825,\n",
       "  0.494892954826355,\n",
       "  0.49487483501434326,\n",
       "  0.494958758354187,\n",
       "  0.4965345859527588,\n",
       "  0.4949288070201874,\n",
       "  0.49551352858543396,\n",
       "  0.4949144124984741,\n",
       "  0.49486836791038513,\n",
       "  0.49490776658058167,\n",
       "  0.4949861764907837,\n",
       "  0.4949267506599426,\n",
       "  0.49494171142578125,\n",
       "  0.49490711092948914,\n",
       "  0.49490728974342346,\n",
       "  0.49491360783576965,\n",
       "  0.49488452076911926,\n",
       "  0.4950220584869385,\n",
       "  0.494899719953537,\n",
       "  0.49499884247779846,\n",
       "  0.4949905276298523,\n",
       "  0.4950634241104126,\n",
       "  0.4949287176132202,\n",
       "  0.49529173970222473,\n",
       "  0.494894802570343,\n",
       "  0.49495285749435425,\n",
       "  0.4949031472206116,\n",
       "  0.4949715733528137,\n",
       "  0.4949019253253937,\n",
       "  0.4951125383377075,\n",
       "  0.4950118362903595,\n",
       "  0.4952237010002136,\n",
       "  0.49532443284988403,\n",
       "  0.49492061138153076]}"
      ]
     },
     "execution_count": 29,
     "metadata": {},
     "output_type": "execute_result"
    }
   ],
   "source": [
    "history.history"
   ]
  },
  {
   "cell_type": "code",
   "execution_count": 30,
   "id": "96e7621c",
   "metadata": {
    "execution": {
     "iopub.execute_input": "2025-07-22T17:43:06.992551Z",
     "iopub.status.busy": "2025-07-22T17:43:06.992241Z",
     "iopub.status.idle": "2025-07-22T17:43:07.264080Z",
     "shell.execute_reply": "2025-07-22T17:43:07.263164Z"
    },
    "papermill": {
     "duration": 0.315639,
     "end_time": "2025-07-22T17:43:07.265380",
     "exception": false,
     "start_time": "2025-07-22T17:43:06.949741",
     "status": "completed"
    },
    "tags": []
   },
   "outputs": [
    {
     "data": {
      "text/plain": [
       "[<matplotlib.lines.Line2D at 0x7c85b819d1d0>]"
      ]
     },
     "execution_count": 30,
     "metadata": {},
     "output_type": "execute_result"
    },
    {
     "data": {
      "image/png": "[encoded data removed]",
      "text/plain": [
       "<Figure size 640x480 with 1 Axes>"
      ]
     },
     "metadata": {},
     "output_type": "display_data"
    }
   ],
   "source": [
    "import matplotlib.pyplot as plt\n",
    "\n",
    "plt.plot(history.history['loss'])\n",
    "plt.plot(history.history['val_loss'])"
   ]
  },
  {
   "cell_type": "code",
   "execution_count": 31,
   "id": "56a09b11",
   "metadata": {
    "execution": {
     "iopub.execute_input": "2025-07-22T17:43:07.352809Z",
     "iopub.status.busy": "2025-07-22T17:43:07.352231Z",
     "iopub.status.idle": "2025-07-22T17:43:07.522293Z",
     "shell.execute_reply": "2025-07-22T17:43:07.521429Z"
    },
    "papermill": {
     "duration": 0.214864,
     "end_time": "2025-07-22T17:43:07.523771",
     "exception": false,
     "start_time": "2025-07-22T17:43:07.308907",
     "status": "completed"
    },
    "tags": []
   },
   "outputs": [
    {
     "data": {
      "text/plain": [
       "[<matplotlib.lines.Line2D at 0x7c8595f7a290>]"
      ]
     },
     "execution_count": 31,
     "metadata": {},
     "output_type": "execute_result"
    },
    {
     "data": {
      "image/png": "[encoded data removed]",
      "text/plain": [
       "<Figure size 640x480 with 1 Axes>"
      ]
     },
     "metadata": {},
     "output_type": "display_data"
    }
   ],
   "source": [
    "plt.plot(history.history['accuracy'])\n",
    "plt.plot(history.history['val_accuracy'])"
   ]
  },
  {
   "cell_type": "code",
   "execution_count": null,
   "id": "3849fad3",
   "metadata": {
    "papermill": {
     "duration": 0.041896,
     "end_time": "2025-07-22T17:43:07.608098",
     "exception": false,
     "start_time": "2025-07-22T17:43:07.566202",
     "status": "completed"
    },
    "tags": []
   },
   "outputs": [],
   "source": []
  }
 ],
 "metadata": {
  "kaggle": {
   "accelerator": "none",
   "dataSources": [
    {
     "datasetId": 869651,
     "sourceId": 1481789,
     "sourceType": "datasetVersion"
    }
   ],
   "dockerImageVersionId": 31089,
   "isGpuEnabled": false,
   "isInternetEnabled": false,
   "language": "python",
   "sourceType": "notebook"
  },
  "kernelspec": {
   "display_name": "Python 3",
   "language": "python",
   "name": "python3"
  },
  "language_info": {
   "codemirror_mode": {
    "name": "ipython",
    "version": 3
   },
   "file_extension": ".py",
   "mimetype": "text/x-python",
   "name": "python",
   "nbconvert_exporter": "python",
   "pygments_lexer": "ipython3",
   "version": "3.11.13"
  },
  "papermill": {
   "default_parameters": {},
   "duration": 69.279534,
   "end_time": "2025-07-22T17:43:11.138046",
   "environment_variables": {},
   "exception": null,
   "input_path": "__notebook__.ipynb",
   "output_path": "__notebook__.ipynb",
   "parameters": {},
   "start_time": "2025-07-22T17:42:01.858512",
   "version": "2.6.0"
  }
 },
 "nbformat": 4,
 "nbformat_minor": 5
}
